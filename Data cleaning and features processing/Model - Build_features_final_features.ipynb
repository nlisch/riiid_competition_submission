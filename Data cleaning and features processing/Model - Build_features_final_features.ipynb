{
 "cells": [
  {
   "cell_type": "code",
   "execution_count": 1,
   "metadata": {},
   "outputs": [
    {
     "data": {
      "text/html": [
       "<style type='text/css'>\n",
       ".datatable table.frame { margin-bottom: 0; }\n",
       ".datatable table.frame thead { border-bottom: none; }\n",
       ".datatable table.frame tr.coltypes td {  color: #FFFFFF;  line-height: 6px;  padding: 0 0.5em;}\n",
       ".datatable .bool    { background: #DDDD99; }\n",
       ".datatable .object  { background: #565656; }\n",
       ".datatable .int     { background: #5D9E5D; }\n",
       ".datatable .float   { background: #4040CC; }\n",
       ".datatable .str     { background: #CC4040; }\n",
       ".datatable .row_index {  background: var(--jp-border-color3);  border-right: 1px solid var(--jp-border-color0);  color: var(--jp-ui-font-color3);  font-size: 9px;}\n",
       ".datatable .frame tr.coltypes .row_index {  background: var(--jp-border-color0);}\n",
       ".datatable th:nth-child(2) { padding-left: 12px; }\n",
       ".datatable .hellipsis {  color: var(--jp-cell-editor-border-color);}\n",
       ".datatable .vellipsis {  background: var(--jp-layout-color0);  color: var(--jp-cell-editor-border-color);}\n",
       ".datatable .na {  color: var(--jp-cell-editor-border-color);  font-size: 80%;}\n",
       ".datatable .footer { font-size: 9px; }\n",
       ".datatable .frame_dimensions {  background: var(--jp-border-color3);  border-top: 1px solid var(--jp-border-color0);  color: var(--jp-ui-font-color3);  display: inline-block;  opacity: 0.6;  padding: 1px 10px 1px 5px;}\n",
       ".datatable .frame thead tr.colnames {  background-image: url('data:image/png;base64,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');  background-repeat: repeat-x;  background-size: 14px;  height: 28px;}\n",
       "</style>\n"
      ],
      "text/plain": [
       "<IPython.core.display.HTML object>"
      ]
     },
     "metadata": {},
     "output_type": "display_data"
    }
   ],
   "source": [
    "import sys\n",
    "import numpy as np\n",
    "import pandas as pd\n",
    "import dask.dataframe as dd\n",
    "import math\n",
    "import plotly.express as px\n",
    "from plotly.subplots import make_subplots\n",
    "import plotly.graph_objs as go\n",
    "import time\n",
    "from sklearn.metrics import roc_auc_score\n",
    "from sklearn.model_selection import train_test_split\n",
    "from lightgbm import LGBMClassifier\n",
    "from sklearn.decomposition import PCA\n",
    "from tqdm import tqdm\n",
    "from sklearn.preprocessing import MultiLabelBinarizer\n",
    "import collections\n",
    "import optuna\n",
    "from optuna.samplers import TPESampler\n",
    "\n",
    "import feather\n",
    "import os\n",
    "import gc\n",
    "import glob\n",
    "import time\n",
    "\n",
    "import lightgbm as lgb\n",
    "from sklearn.linear_model import LogisticRegression\n",
    "\n",
    "from sklearn.isotonic import IsotonicRegression\n",
    "from sklearn.metrics import roc_curve\n",
    "from sklearn.metrics import roc_auc_score,precision_recall_curve\n",
    "from sklearn.metrics import make_scorer,f1_score, recall_score, accuracy_score, average_precision_score, auc\n",
    "from sklearn.metrics import f1_score, mean_squared_error, r2_score, classification_report, confusion_matrix, accuracy_score, precision_score\n",
    "\n",
    "import matplotlib.pyplot as plt\n",
    "import plotly.express as px\n",
    "%matplotlib inline\n",
    "import matplotlib.style as style\n",
    "style.use('fivethirtyeight')\n",
    "import seaborn as sns\n",
    "import pickle\n",
    "\n",
    "import datatable as dt\n",
    "from datatable import (dt, f, g, by, ifelse, update, sort, join,\n",
    "                      count, min, max, mean, sum, rowsum)\n",
    "from sklearn.preprocessing import LabelEncoder"
   ]
  },
  {
   "cell_type": "code",
   "execution_count": 2,
   "metadata": {},
   "outputs": [],
   "source": [
    "def get_previous_timestamp(df):\n",
    "    df = df[['key', 'timestamp']]\n",
    "    keys, values = df.sort_values(['key']).values.T\n",
    "    ukeys, index = np.unique(keys, True)\n",
    "    arrays = np.split(values, index[1:])\n",
    "    timestamp_list_dict = dict(zip(ukeys, arrays))\n",
    "    x = np.ndarray(shape=(len(keys),), dtype=object)\n",
    "    for idx, k in enumerate(tqdm(keys)):\n",
    "        list_t = timestamp_list_dict.get(k).astype('int')\n",
    "        x[idx] = list_t\n",
    "    print(\"List of timestamp processed\")\n",
    "    data = get_lu_previous_timestamp(values, x, keys)\n",
    "    return data"
   ]
  },
  {
   "cell_type": "code",
   "execution_count": 3,
   "metadata": {},
   "outputs": [],
   "source": [
    "def get_lu_previous_timestamp(i, j, origin_keys):\n",
    "    #i = np.array(data['timestamp'].tolist())\n",
    "    #j = np.array(data['previous_timestamp'].tolist())\n",
    "    d1 = i - j\n",
    "    d0 = collections.OrderedDict(enumerate(i.flatten(), 1))\n",
    "    d1 = collections.OrderedDict(enumerate(d1.flatten(), 1))\n",
    "    d2 = collections.OrderedDict(enumerate(j.flatten(), 1))\n",
    "    #print(\"d2 : {}\".format(d2))\n",
    "    #print(\"d0 : {}\".format(d0))\n",
    "    #print(\"d1 : {}\".format(d1))\n",
    "    values = []\n",
    "    #min_values = []\n",
    "    #flags = []\n",
    "    #indexes = []\n",
    "    #look = []\n",
    "    #look_V2 = []\n",
    "    #li = []\n",
    "    #keys = []\n",
    "    original_values = []\n",
    "    for k,v in tqdm(d1.items()):\n",
    "        values_d1 = v.tolist()\n",
    "        #Calculate min value positive\n",
    "        min_value = np.where(d1.get(k) > 0, d1.get(k), np.nan)\n",
    "        min_value = np.nanmin(min_value)\n",
    "        if np.isnan(min_value):\n",
    "            flag = 1\n",
    "            min_value = 0\n",
    "        else:\n",
    "            flag = 0\n",
    "        min_value = int(min_value)\n",
    "        #print(\"values_d1 : {}\".format(values_d1))\n",
    "        #print(\"type values_d1 : {}\".format(type(values_d1)))\n",
    "        #print(\"min_value : {}\".format(min_value))\n",
    "        #print(\"type min_value : {}\".format(type(min_value)))\n",
    "        index = values_d1.index(min_value)\n",
    "        original_value = d0.get(k)\n",
    "        lookup = d2.get(k)\n",
    "        lookup_v2 = lookup[index]\n",
    "        #Define nan when no previous timestamp ( new value = old value)\n",
    "        final = np.where(flag == 1 , -1 , lookup[index])\n",
    "        \n",
    "        #Define final list of previous values\n",
    "        values.append(final)\n",
    "        #look.append(lookup)\n",
    "        #li.append(values_d1)\n",
    "        #min_values.append(min_value)\n",
    "        #flags.append(flag)\n",
    "        #indexes.append(index)\n",
    "        #keys.append(k)\n",
    "        #look_V2.append(lookup_v2)\n",
    "        #original_values.append(original_value)\n",
    "\n",
    "    #df2 = pd.DataFrame({'lu_previous_timestamp':values,'values_d1':li, 'min_values':min_values, 'flags':flags, 'indexes':indexes, 'lookup': look,'lookup_V2': look_V2, 'keys':keys, 'original_values':original_values })\n",
    "    df2 = pd.DataFrame({'lu_previous_timestamp':values, 'key':origin_keys, 'timestamp':i})\n",
    "    return (df2)"
   ]
  },
  {
   "cell_type": "code",
   "execution_count": 4,
   "metadata": {},
   "outputs": [],
   "source": [
    "def merge__by_chunks_pandas(data, data2, key, chunksize):\n",
    "    start = time.time()\n",
    "    frames = {}\n",
    "    chunk_size =  chunksize\n",
    "    size_final_file = data.shape[0]\n",
    "    cols = data.shape[1]\n",
    "    nb_iterations = math.ceil((data.shape[0]/chunk_size))\n",
    "    subset_start = 0\n",
    "    print('Start iteractions over {} chunks to convert {:,} rows of data with {} columns'.format(nb_iterations, size_final_file, cols))\n",
    "    print('Each chunk will process {:,} / {:,}'.format(chunksize, data.shape[0]))\n",
    "    for i in tqdm(range(0,nb_iterations), position=0, leave=True):\n",
    "        subset_end = subset_start + chunk_size\n",
    "        print('subset_start : {}'.format(subset_start))\n",
    "        print('subset_end : {}'.format(subset_end))\n",
    "        print('Total Rows : {}'.format(data.shape[0]))\n",
    "        if data.shape[0]<subset_end:\n",
    "            subset_end = data.shape[0]\n",
    "            print('subset end updated to remaining rows')\n",
    "        if subset_end <= (data.shape[0]) :\n",
    "            data.set_index(key, inplace=True, drop=False)\n",
    "            #data2.set_index(key, inplace=True, drop=False)\n",
    "            subset = data[subset_start:subset_end]\n",
    "            print('chunk #{} size : {:,} rows'.format(str(i + 1), subset.shape[0]))\n",
    "            subset = subset.merge(data2, how = 'left', left_index=True, right_index=True)\n",
    "            subset['chunk'] = i\n",
    "            frames[i] = subset\n",
    "            print ('data load for chunk {}'.format(i + 1))\n",
    "            subset_start =  subset_end\n",
    "            step = time.time()\n",
    "            print( \"Time to process data load for chunk {} :  \\n {:.2f} min\".format( i + 1, (step - start) / 60))\n",
    "    print( \"Starting Aggregate pandas dataframes\")\n",
    "    if len(frames) > 1:\n",
    "        # Concat all new dataframes\n",
    "        final = pd.concat(frames.values(), ignore_index=True)\n",
    "    else:\n",
    "        final = frames.values()\n",
    "    print (\"Finished\")\n",
    "    return final"
   ]
  },
  {
   "cell_type": "code",
   "execution_count": 5,
   "metadata": {},
   "outputs": [],
   "source": [
    "def process__by_list_chunks_pandas(data, iteration_list, iteration_column_name, function, chunksize):\n",
    "    start = time.time()\n",
    "    frames = {}\n",
    "    chunk_size =  chunksize\n",
    "    size_final_file = data.shape[0]\n",
    "    cols = data.shape[1]\n",
    "    nb_iterations = math.ceil((len(iteration_list)/chunk_size))\n",
    "    subset_start = 0\n",
    "    print('Start iteractions over {} chunks to convert {:,} rows of data with {} columns'.format(nb_iterations, size_final_file, cols))\n",
    "    print('Each chunk will process {:,} / {:,} {}'.format(chunksize, len(iteration_list), iteration_column_name))\n",
    "    for i in range(0,nb_iterations):\n",
    "        subset_end = subset_start + chunk_size\n",
    "        print('subset_start : {}'.format(subset_start))\n",
    "        print('subset_end : {}'.format(subset_end))\n",
    "        print('users_list_len : {}'.format(len(iteration_list)))\n",
    "        if len(iteration_list)<subset_end:\n",
    "            subset_end = len(iteration_list)\n",
    "            print('subset end updated to remaining rows')\n",
    "        if subset_end <= (len(iteration_list)) :\n",
    "            user_list_chunk = iteration_list[subset_start:subset_end]\n",
    "            subset = data[data[iteration_column_name].isin(user_list_chunk)]\n",
    "            print('chunk #{} size : {:,} rows'.format(str(i + 1), subset.shape[0]))\n",
    "            subset = function(subset)\n",
    "            #subset['chunk'] = i\n",
    "            frames[i] = subset\n",
    "            print ('data load for chunk {}'.format(i + 1))\n",
    "            subset_start =  subset_end\n",
    "            step = time.time()\n",
    "            print( \"Time to process data load for chunk {} :  \\n {:.2f} min\".format( i + 1, (step - start) / 60))\n",
    "    print( \"Starting Aggregate pandas dataframes\")\n",
    "    if len(frames) > 1:\n",
    "        # Concat all new dataframes\n",
    "        final = pd.concat(frames.values(), ignore_index=True)\n",
    "    else:\n",
    "        final = frames.values()\n",
    "    print (\"Finished\")\n",
    "    return final"
   ]
  },
  {
   "cell_type": "code",
   "execution_count": 6,
   "metadata": {},
   "outputs": [],
   "source": [
    "def reduce_mem_usage(props):\n",
    "    start_mem_usg = props.memory_usage().sum() / 1024**2 \n",
    "    print(\"Memory usage of properties dataframe is :\",start_mem_usg,\" MB\")\n",
    "    NAlist = [] # Keeps track of columns that have missing values filled in. \n",
    "    for col in props.columns:\n",
    "        if props[col].dtype != object:  # Exclude strings\n",
    "            \n",
    "            # Print current column type\n",
    "            print(\"******************************\")\n",
    "            print(\"Column: \",col)\n",
    "            print(\"dtype before: \",props[col].dtype)\n",
    "            \n",
    "            # make variables for Int, max and min\n",
    "            IsInt = False\n",
    "            mx = props[col].max()\n",
    "            mn = props[col].min()\n",
    "            \n",
    "            # Integer does not support NA, therefore, NA needs to be filled\n",
    "            if not np.isfinite(props[col]).all(): \n",
    "                NAlist.append(col)\n",
    "                props[col].fillna(mn-1,inplace=True)  \n",
    "                   \n",
    "            # test if column can be converted to an integer\n",
    "            asint = props[col].fillna(0).astype(np.int64)\n",
    "            result = (props[col] - asint)\n",
    "            result = result.sum()\n",
    "            if result > -0.01 and result < 0.01:\n",
    "                IsInt = True\n",
    "\n",
    "            \n",
    "            # Make Integer/unsigned Integer datatypes\n",
    "            if IsInt:\n",
    "                if mn >= 0:\n",
    "                    if mx < 255:\n",
    "                        props[col] = props[col].astype(np.uint8)\n",
    "                    elif mx < 65535:\n",
    "                        props[col] = props[col].astype(np.uint16)\n",
    "                    elif mx < 4294967295:\n",
    "                        props[col] = props[col].astype(np.uint32)\n",
    "                    else:\n",
    "                        props[col] = props[col].astype(np.uint64)\n",
    "                else:\n",
    "                    if mn > np.iinfo(np.int8).min and mx < np.iinfo(np.int8).max:\n",
    "                        props[col] = props[col].astype(np.int8)\n",
    "                    elif mn > np.iinfo(np.int16).min and mx < np.iinfo(np.int16).max:\n",
    "                        props[col] = props[col].astype(np.int16)\n",
    "                    elif mn > np.iinfo(np.int32).min and mx < np.iinfo(np.int32).max:\n",
    "                        props[col] = props[col].astype(np.int32)\n",
    "                    elif mn > np.iinfo(np.int64).min and mx < np.iinfo(np.int64).max:\n",
    "                        props[col] = props[col].astype(np.int64)    \n",
    "            \n",
    "            # Make float datatypes 32 bit\n",
    "            else:\n",
    "                props[col] = props[col].astype(np.float32)\n",
    "            \n",
    "            # Print new column type\n",
    "            print(\"dtype after: \",props[col].dtype)\n",
    "            print(\"******************************\")\n",
    "    \n",
    "    # Print final result\n",
    "    print(\"___MEMORY USAGE AFTER COMPLETION:___\")\n",
    "    mem_usg = props.memory_usage().sum() / 1024**2 \n",
    "    print(\"Memory usage is: \",mem_usg,\" MB\")\n",
    "    print(\"This is \",100*mem_usg/start_mem_usg,\"% of the initial size\")\n",
    "    return props, NAlist"
   ]
  },
  {
   "cell_type": "code",
   "execution_count": 7,
   "metadata": {},
   "outputs": [],
   "source": [
    "N_ROWS = 99271101\n",
    "N_ROWS_train = 50004223\n",
    "N_ROWS_test = 2500267\n",
    "N_ROWS_user_stats = 393656\n",
    "N_ROWS_content_stats = 13523\n",
    "N_ROWS_previous_stats_questions = 86867031\n",
    "def get_index_np(type_data):\n",
    "    if type_data == 'train':\n",
    "        final = np.arange(N_ROWS_train)\n",
    "    if type_data == 'test':\n",
    "        final = np.arange(N_ROWS_test)\n",
    "    if type_data == 'user_stats':\n",
    "        final = np.arange(N_ROWS_user_stats)\n",
    "    if type_data == 'content_stats':\n",
    "        final = np.arange(N_ROWS_content_stats)\n",
    "    if type_data == 'previous_stats_questions':\n",
    "        final = np.arange(N_ROWS_previous_stats_questions)\n",
    "    if type_data == 'full_dataset':\n",
    "        final = np.arange(N_ROWS)\n",
    "    return final"
   ]
  },
  {
   "cell_type": "code",
   "execution_count": 8,
   "metadata": {},
   "outputs": [],
   "source": [
    "def load_data_np(file_path, columns_selected, type_data):\n",
    "    data = np.load(file_path , allow_pickle=True)\n",
    "    df = pd.DataFrame(index=get_index_np(type_data))\n",
    "    for col in tqdm(columns_selected):\n",
    "        df[col] = data[col]\n",
    "    return df"
   ]
  },
  {
   "cell_type": "markdown",
   "metadata": {},
   "source": [
    "## Loading Dataset "
   ]
  },
  {
   "cell_type": "code",
   "execution_count": null,
   "metadata": {},
   "outputs": [],
   "source": [
    "%%time\n",
    "\n",
    "# reading the dataset from raw csv file\n",
    "data = dt.fread(\"/Users/nlisch/downloads/Kaggle_riid/train.csv\")\n",
    "print(data.shape)"
   ]
  },
  {
   "cell_type": "code",
   "execution_count": null,
   "metadata": {},
   "outputs": [],
   "source": [
    "data = data.to_pandas()\n",
    "#data['prior_question_had_explanation'] = data['prior_question_had_explanation'].astype('bool')"
   ]
  },
  {
   "cell_type": "raw",
   "metadata": {},
   "source": [
    "data = data[['timestamp', 'content_id', 'user_id', 'answered_correctly']]"
   ]
  },
  {
   "cell_type": "code",
   "execution_count": null,
   "metadata": {},
   "outputs": [],
   "source": [
    "data.head(10)"
   ]
  },
  {
   "cell_type": "markdown",
   "metadata": {},
   "source": [
    "## Data cleaning "
   ]
  },
  {
   "cell_type": "code",
   "execution_count": null,
   "metadata": {},
   "outputs": [],
   "source": [
    "%%time\n",
    "#Drop dupplicated rows based on specific columns\n",
    "data.drop_duplicates(subset=['user_id', 'content_id', 'timestamp'], inplace = True)"
   ]
  },
  {
   "cell_type": "code",
   "execution_count": null,
   "metadata": {},
   "outputs": [],
   "source": [
    "# Add questions to train\n",
    "questions = pd.read_csv('/Users/nlisch/downloads/Kaggle_riid/questions.csv')"
   ]
  },
  {
   "cell_type": "code",
   "execution_count": null,
   "metadata": {},
   "outputs": [],
   "source": [
    "questions.groupby(['part']).agg({'question_id': ['count','skew', 'mean', 'std', 'median'] }).reset_index()"
   ]
  },
  {
   "cell_type": "code",
   "execution_count": null,
   "metadata": {},
   "outputs": [],
   "source": [
    "data = data.merge(questions, how = 'left', left_on = 'content_id', right_on = 'question_id')\n",
    "del questions\n",
    "gc.collect()"
   ]
  },
  {
   "cell_type": "code",
   "execution_count": null,
   "metadata": {},
   "outputs": [],
   "source": [
    "%%time\n",
    "# Remove lectures rows\n",
    "data = data[data['answered_correctly']!= -1]\n",
    "\n",
    "data['prior_question_elapsed_time'].fillna(23916, inplace=True)"
   ]
  },
  {
   "cell_type": "code",
   "execution_count": null,
   "metadata": {},
   "outputs": [],
   "source": [
    "%%time\n",
    "\n",
    "# Create question_answered column\n",
    "data.loc[data.answered_correctly != -1, 'question_answered' ] = 1\n",
    "\n",
    "# Create false answer column\n",
    "data.loc[data.answered_correctly == 0, 'false_answer' ] = 1\n",
    "data['false_answer'].fillna(0, inplace=True)"
   ]
  },
  {
   "cell_type": "code",
   "execution_count": null,
   "metadata": {},
   "outputs": [],
   "source": [
    "%%time\n",
    "#Create Key columns\n",
    "data['key'] = data['user_id'].astype(str) + '-' + data['content_id'].astype(str)"
   ]
  },
  {
   "cell_type": "code",
   "execution_count": null,
   "metadata": {},
   "outputs": [],
   "source": [
    "%%time\n",
    "# Sort value for previous question timestamp\n",
    "data = data.sort_values(by=['key', 'timestamp'])"
   ]
  },
  {
   "cell_type": "code",
   "execution_count": null,
   "metadata": {},
   "outputs": [],
   "source": [
    "data.shape"
   ]
  },
  {
   "cell_type": "code",
   "execution_count": null,
   "metadata": {},
   "outputs": [],
   "source": [
    "data.columns"
   ]
  },
  {
   "cell_type": "code",
   "execution_count": null,
   "metadata": {},
   "outputs": [],
   "source": [
    "map_prior = {True:1, False:0}\n",
    "data[\"prior_answer\"] = data[\"prior_question_had_explanation\"].map(map_prior)"
   ]
  },
  {
   "cell_type": "code",
   "execution_count": null,
   "metadata": {},
   "outputs": [],
   "source": [
    "%%time\n",
    "#SAVE DATA\n",
    "#Convert pandas columns to array\n",
    "row_id = np.array(data['row_id'].tolist())\n",
    "timestamp = np.array(data['timestamp'].tolist())\n",
    "user_id = np.array(data['user_id'].tolist())\n",
    "content_id = np.array(data['content_id'].tolist())\n",
    "content_type_id = np.array(data['content_type_id'].tolist())\n",
    "task_container_id = np.array(data['task_container_id'].tolist())\n",
    "user_answer = np.array(data['user_answer'].tolist())\n",
    "answered_correctly = np.array(data['answered_correctly'].tolist())\n",
    "prior_question_elapsed_time = np.array(data['prior_question_elapsed_time'].tolist())\n",
    "prior_question_had_explanation = np.array(data['prior_question_had_explanation'].tolist())\n",
    "question_id = np.array(data['question_id'].tolist())\n",
    "bundle_id = np.array(data['bundle_id'].tolist())\n",
    "correct_answer = np.array(data['correct_answer'].tolist())\n",
    "part = np.array(data['part'].tolist())\n",
    "tags = np.array(data['tags'].tolist())\n",
    "question_answered = np.array(data['question_answered'].tolist())\n",
    "false_answer = np.array(data['false_answer'].tolist())\n",
    "key = np.array(data['key'].tolist())"
   ]
  },
  {
   "cell_type": "code",
   "execution_count": null,
   "metadata": {},
   "outputs": [],
   "source": [
    "%%time\n",
    "np.savez_compressed('/Users/nlisch/downloads/Kaggle_riid/process/data_clean.npz',\n",
    "                    row_id = row_id,\n",
    "                    timestamp = timestamp,\n",
    "                    user_id = user_id,\n",
    "                    content_id = content_id,\n",
    "                    content_type_id = content_type_id,\n",
    "                    task_container_id = task_container_id,\n",
    "                    user_answer = user_answer,\n",
    "                    answered_correctly = answered_correctly,\n",
    "                    prior_question_elapsed_time = prior_question_elapsed_time,\n",
    "                    prior_question_had_explanation = prior_question_had_explanation,\n",
    "                    question_id = question_id,\n",
    "                    bundle_id = bundle_id,\n",
    "                    correct_answer = correct_answer,\n",
    "                    part = part,\n",
    "                    tags = tags,\n",
    "                    question_answered = question_answered,\n",
    "                    false_answer = false_answer, \n",
    "                    key=key\n",
    "                   )\n",
    "\n",
    "del row_id\n",
    "del timestamp\n",
    "del user_id\n",
    "del content_id\n",
    "del content_type_id\n",
    "del task_container_id\n",
    "del user_answer\n",
    "del answered_correctly\n",
    "del prior_question_elapsed_time\n",
    "del prior_question_had_explanation\n",
    "del question_id\n",
    "del bundle_id\n",
    "del correct_answer\n",
    "del part\n",
    "del tags\n",
    "del question_answered\n",
    "del false_answer\n",
    "del key\n",
    "\n",
    "gc.collect()"
   ]
  },
  {
   "cell_type": "code",
   "execution_count": null,
   "metadata": {},
   "outputs": [],
   "source": [
    "data.head(10)"
   ]
  },
  {
   "cell_type": "markdown",
   "metadata": {},
   "source": [
    "# Timestamp list by question for each user"
   ]
  },
  {
   "cell_type": "code",
   "execution_count": null,
   "metadata": {},
   "outputs": [],
   "source": [
    "%%time\n",
    "file_path = '/Users/nlisch/downloads/Kaggle_riid/process/data_clean.npz'\n",
    "columns = ['key', 'timestamp', 'user_id']\n",
    "data = load_data_np(file_path, columns)"
   ]
  },
  {
   "cell_type": "code",
   "execution_count": null,
   "metadata": {},
   "outputs": [],
   "source": [
    "#data['key'] = data['user_id'].astype(str) + '-' + data['content_id'].astype(str)\n",
    "#data = data[['key', 'timestamp', 'user_id']]\n",
    "#data = data.sort_values(by=['key', 'timestamp'])"
   ]
  },
  {
   "cell_type": "code",
   "execution_count": null,
   "metadata": {},
   "outputs": [],
   "source": [
    "users_list = data['user_id'].unique().tolist()"
   ]
  },
  {
   "cell_type": "code",
   "execution_count": null,
   "metadata": {},
   "outputs": [],
   "source": [
    "%%time\n",
    "list_timestamp_h_question = process__by_list_chunks_pandas(data = data,\n",
    "                                  iteration_list = users_list,\n",
    "                                  iteration_column_name = 'user_id',\n",
    "                                  function = get_previous_timestamp,\n",
    "                                  chunksize = 10000)"
   ]
  },
  {
   "cell_type": "code",
   "execution_count": null,
   "metadata": {},
   "outputs": [],
   "source": [
    "%%time\n",
    "list_timestamp_h_question = list_timestamp_h_question.sort_values(by=['key', 'timestamp'])"
   ]
  },
  {
   "cell_type": "code",
   "execution_count": null,
   "metadata": {},
   "outputs": [],
   "source": [
    "%%time\n",
    "#Convert pandas columns to array\n",
    "key = np.array(list_timestamp_h_question['key'].tolist())\n",
    "lu_previous_timestamp = np.array(list_timestamp_h_question['lu_previous_timestamp'].tolist())"
   ]
  },
  {
   "cell_type": "code",
   "execution_count": null,
   "metadata": {},
   "outputs": [],
   "source": [
    "%%time\n",
    "np.savez_compressed('/Users/nlisch/downloads/Kaggle_riid/process/list_timestamp_h_question.npz',\n",
    "                    key=key,\n",
    "                    lu_previous_timestamp=lu_previous_timestamp)\n",
    "del key\n",
    "del lu_previous_timestamp\n",
    "gc.collect"
   ]
  },
  {
   "cell_type": "code",
   "execution_count": null,
   "metadata": {},
   "outputs": [],
   "source": [
    "%%time\n",
    "data['lu_previous_timestamp'] = lu_previous_timestamp"
   ]
  },
  {
   "cell_type": "code",
   "execution_count": null,
   "metadata": {},
   "outputs": [],
   "source": [
    "%%time\n",
    "data['key2'] = key"
   ]
  },
  {
   "cell_type": "code",
   "execution_count": null,
   "metadata": {},
   "outputs": [],
   "source": [
    "data[data['key'] != data['key2']]"
   ]
  },
  {
   "cell_type": "code",
   "execution_count": null,
   "metadata": {},
   "outputs": [],
   "source": [
    "data.sample(10)"
   ]
  },
  {
   "cell_type": "code",
   "execution_count": null,
   "metadata": {},
   "outputs": [],
   "source": [
    "data[(data['user_id'] == 1434394909)]\\\n",
    "          .sort_values(by=['key','timestamp'])"
   ]
  },
  {
   "cell_type": "markdown",
   "metadata": {},
   "source": [
    "## Previous stats"
   ]
  },
  {
   "cell_type": "code",
   "execution_count": null,
   "metadata": {},
   "outputs": [],
   "source": [
    "%%time\n",
    "file_path = '/Users/nlisch/downloads/Kaggle_riid/process/data_clean.npz'\n",
    "columns = ['user_id', 'content_id', 'timestamp', 'answered_correctly', 'false_answer']\n",
    "df_h_question = load_data_np(file_path, columns)"
   ]
  },
  {
   "cell_type": "code",
   "execution_count": null,
   "metadata": {},
   "outputs": [],
   "source": [
    "df_h_question.shape"
   ]
  },
  {
   "cell_type": "code",
   "execution_count": null,
   "metadata": {},
   "outputs": [],
   "source": [
    "%%time\n",
    "df_h_question['previous_false_answer'] = df_h_question.sort_values(by=['user_id', 'content_id', 'timestamp'], ascending=True)\\\n",
    "                       .groupby(['user_id', 'content_id'])['false_answer']\\\n",
    "                       .cumsum()"
   ]
  },
  {
   "cell_type": "code",
   "execution_count": null,
   "metadata": {},
   "outputs": [],
   "source": [
    "%%time\n",
    "df_h_question['previous_correct_answer'] = df_h_question.sort_values(by=['user_id', 'content_id', 'timestamp'], ascending=True)\\\n",
    "                       .groupby(['user_id', 'content_id'])['answered_correctly']\\\n",
    "                       .cumsum()"
   ]
  },
  {
   "cell_type": "code",
   "execution_count": null,
   "metadata": {},
   "outputs": [],
   "source": [
    "%%time\n",
    "df_h_question['nb_previous_questions_answered'] = df_h_question.sort_values(['user_id', 'content_id', 'timestamp'], ascending=True)\\\n",
    "             .groupby(['user_id', 'content_id'])\\\n",
    "             .cumcount()"
   ]
  },
  {
   "cell_type": "code",
   "execution_count": null,
   "metadata": {},
   "outputs": [],
   "source": [
    "%%time\n",
    "df_h_question['previous_answer'] = df_h_question.sort_values(by=['user_id', 'content_id', 'timestamp'], ascending=True)\\\n",
    "                       .groupby(['user_id', 'content_id'])['answered_correctly'].shift(1)"
   ]
  },
  {
   "cell_type": "code",
   "execution_count": null,
   "metadata": {},
   "outputs": [],
   "source": [
    "%%time\n",
    "df_h_question['previous_answer'].fillna(999999, inplace=True)\n",
    "\n",
    "df_h_question['previous_correct_answer'] = df_h_question['previous_correct_answer'].astype(int)\n",
    "df_h_question['previous_false_answer'] = df_h_question['previous_false_answer'].astype(int)\n",
    "df_h_question['previous_answer'] = df_h_question['previous_answer'].astype(int)\n",
    "df_h_question['false_answer'] = df_h_question['false_answer'].astype(int)"
   ]
  },
  {
   "cell_type": "code",
   "execution_count": null,
   "metadata": {},
   "outputs": [],
   "source": [
    "%%time\n",
    "df_h_question.rename(columns = {'timestamp':'lu_previous_timestamp'}, inplace = True)"
   ]
  },
  {
   "cell_type": "code",
   "execution_count": null,
   "metadata": {},
   "outputs": [],
   "source": [
    "df_h_question, NAlist = reduce_mem_usage(df_h_question)"
   ]
  },
  {
   "cell_type": "code",
   "execution_count": null,
   "metadata": {},
   "outputs": [],
   "source": [
    "%%time\n",
    "df_h_question['key'] = df_h_question['user_id'].astype(str) + '-' + df_h_question['content_id'].astype(str)\n",
    "df_h_question['key'] = df_h_question['key'].astype(str) + '-' + df_h_question['lu_previous_timestamp'].astype(str)\n",
    "df_h_question = df_h_question[['key',\n",
    "                    'previous_false_answer',\n",
    "                    'previous_correct_answer',\n",
    "                    'nb_previous_questions_answered',\n",
    "                    'previous_answer']]"
   ]
  },
  {
   "cell_type": "code",
   "execution_count": null,
   "metadata": {},
   "outputs": [],
   "source": [
    "df_h_question.head(10)"
   ]
  },
  {
   "cell_type": "code",
   "execution_count": null,
   "metadata": {},
   "outputs": [],
   "source": [
    "%%time\n",
    "#SAVE DATA\n",
    "#Convert pandas columns to array\n",
    "key = np.array(df_h_question['key'].tolist())\n",
    "previous_false_answer = np.array(df_h_question['previous_false_answer'].tolist())\n",
    "previous_correct_answer = np.array(df_h_question['previous_correct_answer'].tolist())\n",
    "nb_previous_questions_answered = np.array(df_h_question['nb_previous_questions_answered'].tolist())\n",
    "previous_answer = np.array(df_h_question['previous_answer'].tolist())\n",
    "del df_h_question\n",
    "gc.collect()"
   ]
  },
  {
   "cell_type": "code",
   "execution_count": null,
   "metadata": {},
   "outputs": [],
   "source": [
    "%%time\n",
    "np.savez_compressed('/Users/nlisch/downloads/Kaggle_riid/process/previous_answer_questions_stats.npz',\n",
    "                    key=key,\n",
    "                    previous_false_answer=previous_false_answer,\n",
    "                    previous_correct_answer = previous_correct_answer,\n",
    "                    nb_previous_questions_answered = nb_previous_questions_answered,\n",
    "                    previous_answer = previous_answer\n",
    "                   )\n",
    "del key\n",
    "del previous_false_answer\n",
    "del previous_correct_answer\n",
    "del nb_previous_questions_answered\n",
    "del previous_answer\n",
    "gc.collect()"
   ]
  },
  {
   "cell_type": "code",
   "execution_count": null,
   "metadata": {},
   "outputs": [],
   "source": [
    "#MERGE previous questions stats with data"
   ]
  },
  {
   "cell_type": "markdown",
   "metadata": {},
   "source": [
    "## Load data needed"
   ]
  },
  {
   "cell_type": "code",
   "execution_count": null,
   "metadata": {},
   "outputs": [],
   "source": [
    "%%time\n",
    "file_path = '/Users/nlisch/downloads/Kaggle_riid/process/data_clean.npz'\n",
    "columns = ['key']\n",
    "data = load_data_np(file_path, columns)"
   ]
  },
  {
   "cell_type": "code",
   "execution_count": null,
   "metadata": {},
   "outputs": [],
   "source": [
    "%%time\n",
    "lu_previous_timestamp = np.load('/Users/nlisch/downloads/Kaggle_riid/process/list_timestamp_h_question.npz' , allow_pickle=True)\n",
    "data['lu_previous_timestamp'] = lu_previous_timestamp['lu_previous_timestamp']\n",
    "del lu_previous_timestamp\n",
    "gc.collect()"
   ]
  },
  {
   "cell_type": "code",
   "execution_count": null,
   "metadata": {},
   "outputs": [],
   "source": [
    "lu_previous_timestamp['key'][7544719]"
   ]
  },
  {
   "cell_type": "code",
   "execution_count": null,
   "metadata": {},
   "outputs": [],
   "source": [
    "lu_previous_timestamp['lu_previous_timestamp'][7544719]"
   ]
  },
  {
   "cell_type": "code",
   "execution_count": null,
   "metadata": {},
   "outputs": [],
   "source": [
    "data.iloc[7544719]"
   ]
  },
  {
   "cell_type": "code",
   "execution_count": null,
   "metadata": {},
   "outputs": [],
   "source": [
    "%%time\n",
    "file_path = '/Users/nlisch/downloads/Kaggle_riid/process/previous_answer_questions_stats.npz'\n",
    "columns = [ 'key',\n",
    "            'previous_false_answer',\n",
    "            'previous_correct_answer',\n",
    "            'nb_previous_questions_answered',\n",
    "            'previous_answer']\n",
    "previous_answer_questions_stats = load_data_np(file_path, columns)"
   ]
  },
  {
   "cell_type": "code",
   "execution_count": null,
   "metadata": {},
   "outputs": [],
   "source": [
    "previous_answer_questions_stats.head(10)"
   ]
  },
  {
   "cell_type": "code",
   "execution_count": null,
   "metadata": {},
   "outputs": [],
   "source": [
    "previous_answer_questions_stats.shape"
   ]
  },
  {
   "cell_type": "markdown",
   "metadata": {},
   "source": [
    "## Merge data "
   ]
  },
  {
   "cell_type": "code",
   "execution_count": null,
   "metadata": {},
   "outputs": [],
   "source": [
    "data.head(10)"
   ]
  },
  {
   "cell_type": "raw",
   "metadata": {},
   "source": [
    "data = data[data['key'] == \"1509564249-5681\" ]"
   ]
  },
  {
   "cell_type": "code",
   "execution_count": null,
   "metadata": {},
   "outputs": [],
   "source": [
    "%%time\n",
    "data['key'] = data['key'].astype(str) + '-' + data['lu_previous_timestamp'].astype(str)"
   ]
  },
  {
   "cell_type": "code",
   "execution_count": null,
   "metadata": {},
   "outputs": [],
   "source": [
    "%%time\n",
    "#Keep only key and remove lu_previous_timestamp\n",
    "data = data['key']\n",
    "data = data.to_dict()"
   ]
  },
  {
   "cell_type": "raw",
   "metadata": {},
   "source": [
    "previous_answer_questions_stats[previous_answer_questions_stats.key.str.startswith('115-7900', na=False) == True]"
   ]
  },
  {
   "cell_type": "raw",
   "metadata": {},
   "source": [
    "data[(data['user_id'] == 115) & (data['content_id'] == 7900)]"
   ]
  },
  {
   "cell_type": "code",
   "execution_count": null,
   "metadata": {},
   "outputs": [],
   "source": [
    "%%time\n",
    "keys, \\\n",
    "previous_false_answer, \\\n",
    "previous_correct_answer, \\\n",
    "nb_previous_questions_answered, \\\n",
    "previous_answer = previous_answer_questions_stats.values.T\n",
    "#.sort_values(['key'])\n",
    "del previous_answer_questions_stats\n",
    "gc.collect()"
   ]
  },
  {
   "cell_type": "code",
   "execution_count": null,
   "metadata": {},
   "outputs": [],
   "source": [
    "%%time\n",
    "pfa_dict = dict(zip(keys, previous_false_answer))\n",
    "pca_dict = dict(zip(keys, previous_correct_answer))\n",
    "npqa_dict = dict(zip(keys, nb_previous_questions_answered))\n",
    "pa_dict = dict(zip(keys, previous_answer))"
   ]
  },
  {
   "cell_type": "code",
   "execution_count": null,
   "metadata": {},
   "outputs": [],
   "source": [
    "w = np.ndarray(shape=(len(data),), dtype=object)\n",
    "x = np.ndarray(shape=(len(data),), dtype=object)\n",
    "y = np.ndarray(shape=(len(data),), dtype=object)\n",
    "z = np.ndarray(shape=(len(data),), dtype=object)"
   ]
  },
  {
   "cell_type": "code",
   "execution_count": null,
   "metadata": {},
   "outputs": [],
   "source": [
    "%%time\n",
    "for idx, v in (tqdm(data.items(), position=0, leave=True)):\n",
    "        w[idx] = pfa_dict.get(v)\n",
    "        x[idx] = pca_dict.get(v)\n",
    "        y[idx] = npqa_dict.get(v)\n",
    "        z[idx] = pa_dict.get(v)"
   ]
  },
  {
   "cell_type": "code",
   "execution_count": null,
   "metadata": {},
   "outputs": [],
   "source": [
    "%%time\n",
    "np.savez_compressed('/Users/nlisch/downloads/Kaggle_riid/process/previous_answer_questions_stats_final.npz',\n",
    "                    previous_false_answer = w,\n",
    "                    previous_correct_answer = x,\n",
    "                    nb_previous_questions_answered = y,\n",
    "                    previous_answer = z\n",
    "                   )\n"
   ]
  },
  {
   "cell_type": "code",
   "execution_count": null,
   "metadata": {},
   "outputs": [],
   "source": [
    "del w\n",
    "del x\n",
    "del y\n",
    "del z\n",
    "gc.collect()"
   ]
  },
  {
   "cell_type": "code",
   "execution_count": null,
   "metadata": {},
   "outputs": [],
   "source": [
    "data.columns"
   ]
  },
  {
   "cell_type": "code",
   "execution_count": null,
   "metadata": {},
   "outputs": [],
   "source": [
    "#Check Size of local variables\n",
    "def sizeof_fmt(num, suffix='B'):\n",
    "    for unit in ['','Ki','Mi','Gi','Ti','Pi','Ei','Zi']:\n",
    "        if abs(num) < 1024.0:\n",
    "            return \"%3.1f %s%s\" % (num, unit, suffix)\n",
    "        num /= 1024.0\n",
    "    return \"%.1f %s%s\" % (num, 'Yi', suffix)\n",
    "\n",
    "for name, size in sorted(((name, sys.getsizeof(value)) for name, value in locals().items()),\n",
    "                         key= lambda x: -x[1])[:10]:\n",
    "    print(\"{:>30}: {:>8}\".format(name, sizeof_fmt(size)))"
   ]
  },
  {
   "cell_type": "markdown",
   "metadata": {},
   "source": [
    "# Statistical features"
   ]
  },
  {
   "cell_type": "markdown",
   "metadata": {},
   "source": [
    "# User stats"
   ]
  },
  {
   "cell_type": "code",
   "execution_count": null,
   "metadata": {},
   "outputs": [],
   "source": [
    "%%time\n",
    "file_path = '/Users/nlisch/downloads/Kaggle_riid/process/data_clean.npz'\n",
    "columns = ['user_id', 'answered_correctly','key', 'timestamp']\n",
    "data = load_data_np(file_path, columns,  \"full_dataset\")"
   ]
  },
  {
   "cell_type": "code",
   "execution_count": null,
   "metadata": {},
   "outputs": [],
   "source": [
    "%%time\n",
    "user_stats = data.groupby('user_id').agg({'answered_correctly': ['sum', 'count', 'skew', 'mean', 'std'] }).reset_index()"
   ]
  },
  {
   "cell_type": "code",
   "execution_count": null,
   "metadata": {},
   "outputs": [],
   "source": [
    "%%time\n",
    "user_stats.columns=user_stats.columns.map('_'.join)\n",
    "user_stats.rename(columns = {\n",
    " 'user_id_':'user_id'}, inplace = True)"
   ]
  },
  {
   "cell_type": "code",
   "execution_count": null,
   "metadata": {},
   "outputs": [],
   "source": [
    "%%time\n",
    "#Order \n",
    "user_stats = user_stats.sort_values(by=['user_id'])"
   ]
  },
  {
   "cell_type": "code",
   "execution_count": null,
   "metadata": {},
   "outputs": [],
   "source": [
    "user_stats.shape"
   ]
  },
  {
   "cell_type": "code",
   "execution_count": null,
   "metadata": {},
   "outputs": [],
   "source": [
    "%%time\n",
    "#SAVE DATA\n",
    "#Convert pandas columns to array\n",
    "user_id = np.array(user_stats['user_id'].tolist())\n",
    "answered_correctly_sum = np.array(data['answered_correctly_sum'].tolist())\n",
    "answered_correctly_skew = np.array(user_stats['answered_correctly_skew'].tolist())\n",
    "answered_correctly_mean = np.array(user_stats['answered_correctly_mean'].tolist())\n",
    "answered_correctly_std = np.array(user_stats['answered_correctly_std'].tolist())\n",
    "answered_correctly_count = np.array(user_stats['answered_correctly_count'].tolist())"
   ]
  },
  {
   "cell_type": "code",
   "execution_count": null,
   "metadata": {},
   "outputs": [],
   "source": [
    "%%time\n",
    "np.savez_compressed('/Users/nlisch/downloads/Kaggle_riid/process/prediction/users_stats_final_to_predict.npz',\n",
    "                    user_id = user_id,\n",
    "                    user_answered_correctly_sum = answered_correctly_sum,\n",
    "                    user_answered_correctly_skew = answered_correctly_skew,\n",
    "                    user_answered_correctly_mean = answered_correctly_mean,\n",
    "                    user_answered_correctly_std = answered_correctly_std,\n",
    "                    user_"
   ]
  },
  {
   "cell_type": "code",
   "execution_count": null,
   "metadata": {},
   "outputs": [],
   "source": [
    "user_stats.set_index('user_id', inplace=True, drop=True)"
   ]
  },
  {
   "cell_type": "code",
   "execution_count": null,
   "metadata": {},
   "outputs": [],
   "source": [
    "%%time\n",
    "data = merge__by_chunks_pandas(data = data,\n",
    "                               data2 = user_stats,\n",
    "                               key = 'user_id',\n",
    "                               chunksize = 500000)\n",
    "del user_stats\n",
    "gc.collect()"
   ]
  },
  {
   "cell_type": "code",
   "execution_count": null,
   "metadata": {},
   "outputs": [],
   "source": [
    "%%time\n",
    "#Reorder data before extracting np arays\n",
    "data = data.sort_values(by=['key', 'timestamp'])"
   ]
  },
  {
   "cell_type": "code",
   "execution_count": null,
   "metadata": {},
   "outputs": [],
   "source": [
    "data.head(10)"
   ]
  },
  {
   "cell_type": "code",
   "execution_count": null,
   "metadata": {},
   "outputs": [],
   "source": [
    "%%time\n",
    "#SAVE DATA\n",
    "#Convert pandas columns to array\n",
    "answered_correctly_sum = np.array(data['answered_correctly_sum'].tolist())\n",
    "answered_correctly_skew = np.array(data['answered_correctly_skew'].tolist())\n",
    "answered_correctly_mean = np.array(data['answered_correctly_mean'].tolist())\n",
    "answered_correctly_std = np.array(data['answered_correctly_std'].tolist())\n",
    "answered_correctly_count = np.array(data['answered_correctly_count'].tolist())\n",
    "del data\n",
    "gc.collect()"
   ]
  },
  {
   "cell_type": "code",
   "execution_count": null,
   "metadata": {},
   "outputs": [],
   "source": [
    "%%time\n",
    "np.savez_compressed('/Users/nlisch/downloads/Kaggle_riid/process/users_stats_final.npz',\n",
    "                    user_answered_correctly_sum = answered_correctly_sum,\n",
    "                    user_answered_correctly_skew = answered_correctly_skew,\n",
    "                    user_answered_correctly_mean = answered_correctly_mean,\n",
    "                    user_answered_correctly_std = answered_correctly_std,\n",
    "                    user_answered_correctly_count = answered_correctly_count\n",
    "                   )\n",
    "del answered_correctly_skew\n",
    "del answered_correctly_mean\n",
    "del answered_correctly_std\n",
    "del answered_correctly_count\n",
    "gc.collect()"
   ]
  },
  {
   "cell_type": "markdown",
   "metadata": {},
   "source": [
    "# Content"
   ]
  },
  {
   "cell_type": "code",
   "execution_count": null,
   "metadata": {},
   "outputs": [],
   "source": [
    "%%time\n",
    "file_path = '/Users/nlisch/downloads/Kaggle_riid/process/data_clean.npz'\n",
    "columns = ['content_id', 'answered_correctly', 'key', 'timestamp' ]\n",
    "data = load_data_np(file_path, columns,  \"full_dataset\")"
   ]
  },
  {
   "cell_type": "code",
   "execution_count": null,
   "metadata": {},
   "outputs": [],
   "source": [
    "%%time\n",
    "content_id_stats = data.groupby('content_id').agg({'answered_correctly': ['skew', 'mean', 'std', 'median'] }).reset_index()"
   ]
  },
  {
   "cell_type": "code",
   "execution_count": null,
   "metadata": {},
   "outputs": [],
   "source": [
    "%%time\n",
    "content_id_stats.columns=content_id_stats.columns.map('_'.join)\n",
    "content_id_stats.rename(columns = {\n",
    " 'content_id_':'content_id'}, inplace = True)"
   ]
  },
  {
   "cell_type": "code",
   "execution_count": null,
   "metadata": {},
   "outputs": [],
   "source": [
    "%%time\n",
    "#SAVE DATA\n",
    "#Convert pandas columns to array\n",
    "content_id = np.array(content_id_stats['content_id'].tolist())\n",
    "answered_correctly_skew = np.array(content_id_stats['answered_correctly_skew'].tolist())\n",
    "answered_correctly_mean = np.array(content_id_stats['answered_correctly_mean'].tolist())\n",
    "answered_correctly_std = np.array(content_id_stats['answered_correctly_std'].tolist())\n",
    "answered_correctly_median = np.array(content_id_stats['answered_correctly_median'].tolist())"
   ]
  },
  {
   "cell_type": "code",
   "execution_count": null,
   "metadata": {},
   "outputs": [],
   "source": [
    "%%time\n",
    "np.savez_compressed('/Users/nlisch/downloads/Kaggle_riid/process/prediction/content_stats_final_to_predict.npz',\n",
    "                    content_id = content_id,\n",
    "                    content_answered_correctly_skew = answered_correctly_skew,\n",
    "                    content_answered_correctly_mean = answered_correctly_mean,\n",
    "                    content_answered_correctly_std = answered_correctly_std,\n",
    "                    content_answered_correctly_median = answered_correctly_median\n",
    "                   )"
   ]
  },
  {
   "cell_type": "code",
   "execution_count": null,
   "metadata": {},
   "outputs": [],
   "source": [
    "content_id_stats.set_index('content_id', inplace=True, drop=True)"
   ]
  },
  {
   "cell_type": "code",
   "execution_count": null,
   "metadata": {},
   "outputs": [],
   "source": [
    "%%time\n",
    "data = merge__by_chunks_pandas(data = data,\n",
    "                               data2 = content_id_stats,\n",
    "                               key = 'content_id',\n",
    "                               chunksize = 500000)\n",
    "del content_id_stats\n",
    "gc.collect()"
   ]
  },
  {
   "cell_type": "code",
   "execution_count": null,
   "metadata": {},
   "outputs": [],
   "source": [
    "%%time\n",
    "#Reorder data before extracting np arays\n",
    "data = data.sort_values(by=['key', 'timestamp'])"
   ]
  },
  {
   "cell_type": "code",
   "execution_count": null,
   "metadata": {},
   "outputs": [],
   "source": [
    "%%time\n",
    "#SAVE DATA\n",
    "#Convert pandas columns to array  \n",
    "answered_correctly_skew = np.array(data['answered_correctly_skew'].tolist())\n",
    "answered_correctly_mean = np.array(data['answered_correctly_mean'].tolist())\n",
    "answered_correctly_std = np.array(data['answered_correctly_std'].tolist())\n",
    "answered_correctly_median = np.array(data['answered_correctly_median'].tolist())\n",
    "del data\n",
    "gc.collect()"
   ]
  },
  {
   "cell_type": "code",
   "execution_count": null,
   "metadata": {},
   "outputs": [],
   "source": [
    "%%time\n",
    "np.savez_compressed('/Users/nlisch/downloads/Kaggle_riid/process/content_stats_final.npz',\n",
    "                    content_answered_correctly_skew = answered_correctly_skew,\n",
    "                    content_answered_correctly_mean = answered_correctly_mean,\n",
    "                    content_answered_correctly_std = answered_correctly_std,\n",
    "                    content_answered_correctly_median = answered_correctly_median\n",
    "                   )\n",
    "del answered_correctly_skew\n",
    "del answered_correctly_mean\n",
    "del answered_correctly_std\n",
    "del answered_correctly_median\n",
    "gc.collect()"
   ]
  },
  {
   "cell_type": "markdown",
   "metadata": {},
   "source": [
    "## User  - Answer"
   ]
  },
  {
   "cell_type": "code",
   "execution_count": null,
   "metadata": {},
   "outputs": [],
   "source": [
    "%%time\n",
    "file_path = '/Users/nlisch/downloads/Kaggle_riid/process/data_clean.npz'\n",
    "columns = ['user_id','user_answer', 'correct_answer', 'answered_correctly','key', 'timestamp']\n",
    "data = load_data_np(file_path, columns, 'full_dataset')"
   ]
  },
  {
   "cell_type": "code",
   "execution_count": null,
   "metadata": {},
   "outputs": [],
   "source": [
    "%%time\n",
    "user_stats = data.groupby(['user_id', 'user_answer']).agg({'answered_correctly': ['count','skew', 'mean', 'std', 'median'] }).reset_index()"
   ]
  },
  {
   "cell_type": "code",
   "execution_count": null,
   "metadata": {},
   "outputs": [],
   "source": [
    "user_stats.head(20)"
   ]
  },
  {
   "cell_type": "code",
   "execution_count": null,
   "metadata": {},
   "outputs": [],
   "source": [
    "%%time\n",
    "user_stats.columns=user_stats.columns.map('_'.join)\n",
    "user_stats.rename(columns = {\n",
    " 'user_id_':'user_id', \n",
    " 'user_answer_':'user_answer'}, inplace = True)"
   ]
  },
  {
   "cell_type": "code",
   "execution_count": null,
   "metadata": {},
   "outputs": [],
   "source": [
    "user_stats['answered_correctly_mean'].unique()"
   ]
  },
  {
   "cell_type": "code",
   "execution_count": null,
   "metadata": {},
   "outputs": [],
   "source": [
    "%%time\n",
    "data['key_anwser'] = data['user_id'].astype(str) + '-' + data['correct_answer'].astype(int).astype(str)"
   ]
  },
  {
   "cell_type": "code",
   "execution_count": null,
   "metadata": {},
   "outputs": [],
   "source": [
    "%%time\n",
    "user_stats['key_anwser'] = user_stats['user_id'].astype(str) + '-' + user_stats['user_answer'].astype(str)"
   ]
  },
  {
   "cell_type": "code",
   "execution_count": null,
   "metadata": {},
   "outputs": [],
   "source": [
    "data['key_anwser'].head(10)"
   ]
  },
  {
   "cell_type": "code",
   "execution_count": null,
   "metadata": {},
   "outputs": [],
   "source": [
    "user_stats['key_anwser'].head(10)"
   ]
  },
  {
   "cell_type": "code",
   "execution_count": null,
   "metadata": {},
   "outputs": [],
   "source": [
    "user_stats.set_index('key_anwser', inplace=True, drop=True)"
   ]
  },
  {
   "cell_type": "code",
   "execution_count": null,
   "metadata": {},
   "outputs": [],
   "source": [
    "%%time\n",
    "data = merge__by_chunks_pandas(data = data,\n",
    "                               data2 = user_stats,\n",
    "                               key = 'key_anwser',\n",
    "                               chunksize = 500000)\n",
    "del user_stats\n",
    "gc.collect()"
   ]
  },
  {
   "cell_type": "code",
   "execution_count": null,
   "metadata": {},
   "outputs": [],
   "source": [
    "data.head(10)"
   ]
  },
  {
   "cell_type": "code",
   "execution_count": null,
   "metadata": {},
   "outputs": [],
   "source": [
    "%%time\n",
    "#Reorder data before extracting np arays\n",
    "data = data.sort_values(by=['key', 'timestamp'])"
   ]
  },
  {
   "cell_type": "code",
   "execution_count": null,
   "metadata": {},
   "outputs": [],
   "source": [
    "data.head(10)"
   ]
  },
  {
   "cell_type": "code",
   "execution_count": null,
   "metadata": {
    "scrolled": true
   },
   "outputs": [],
   "source": [
    "%%time\n",
    "#SAVE DATA\n",
    "#Convert pandas columns to array\n",
    "answered_correctly_count = np.array(data['answered_correctly_count'].tolist())\n",
    "answered_correctly_skew = np.array(data['answered_correctly_skew'].tolist())\n",
    "answered_correctly_mean = np.array(data['answered_correctly_mean'].tolist())\n",
    "answered_correctly_std = np.array(data['answered_correctly_std'].tolist())\n",
    "answered_correctly_median = np.array(data['answered_correctly_median'].tolist())\n",
    "del data\n",
    "gc.collect()"
   ]
  },
  {
   "cell_type": "code",
   "execution_count": null,
   "metadata": {},
   "outputs": [],
   "source": [
    "%%time\n",
    "np.savez_compressed('/Users/nlisch/downloads/Kaggle_riid/process/answer_stats_final.npz',\n",
    "                    user_answered_correctly_count = answered_correctly_count,\n",
    "                    user_answered_correctly_skew = answered_correctly_skew,\n",
    "                    user_answered_correctly_mean = answered_correctly_mean,\n",
    "                    user_answered_correctly_std = answered_correctly_std,\n",
    "                    user_answered_correctly_median = answered_correctly_median\n",
    "                   )\n",
    "del answered_correctly_sum\n",
    "del answered_correctly_count\n",
    "del answered_correctly_skew\n",
    "del answered_correctly_mean\n",
    "del answered_correctly_std\n",
    "del answered_correctly_median\n",
    "gc.collect()"
   ]
  },
  {
   "cell_type": "markdown",
   "metadata": {},
   "source": [
    "## Content answer"
   ]
  },
  {
   "cell_type": "code",
   "execution_count": null,
   "metadata": {},
   "outputs": [],
   "source": [
    "%%time\n",
    "file_path = '/Users/nlisch/downloads/Kaggle_riid/process/data_clean.npz'\n",
    "columns = ['content_id','user_answer', 'correct_answer', 'answered_correctly', 'key', 'timestamp' ]\n",
    "data = load_data_np(file_path, columns)"
   ]
  },
  {
   "cell_type": "code",
   "execution_count": null,
   "metadata": {},
   "outputs": [],
   "source": [
    "%%time\n",
    "content_id_stats = data.groupby(['content_id', 'user_answer']).agg({'answered_correctly': ['count','skew', 'mean', 'std', 'median'] }).reset_index()"
   ]
  },
  {
   "cell_type": "code",
   "execution_count": null,
   "metadata": {},
   "outputs": [],
   "source": [
    "content_id_stats.head(10)"
   ]
  },
  {
   "cell_type": "code",
   "execution_count": null,
   "metadata": {},
   "outputs": [],
   "source": [
    "%%time\n",
    "content_id_stats.columns=content_id_stats.columns.map('_'.join)\n",
    "content_id_stats.rename(columns = {\n",
    " 'content_id_':'content_id',\n",
    " 'user_answer_':'user_answer'}, inplace = True)"
   ]
  },
  {
   "cell_type": "code",
   "execution_count": null,
   "metadata": {},
   "outputs": [],
   "source": [
    "content_id_stats.head(10)"
   ]
  },
  {
   "cell_type": "code",
   "execution_count": null,
   "metadata": {},
   "outputs": [],
   "source": [
    "%%time\n",
    "data['key_anwser'] = data['content_id'].astype(str) + '-' + data['correct_answer'].astype(int).astype(str)"
   ]
  },
  {
   "cell_type": "code",
   "execution_count": null,
   "metadata": {},
   "outputs": [],
   "source": [
    "%%time\n",
    "content_id_stats['key_anwser'] = content_id_stats['content_id'].astype(str) + '-' + content_id_stats['user_answer'].astype(str)"
   ]
  },
  {
   "cell_type": "code",
   "execution_count": null,
   "metadata": {},
   "outputs": [],
   "source": [
    "content_id_stats.set_index('key_anwser', inplace=True, drop=True)"
   ]
  },
  {
   "cell_type": "code",
   "execution_count": null,
   "metadata": {},
   "outputs": [],
   "source": [
    "%%time\n",
    "data = merge__by_chunks_pandas(data = data,\n",
    "                               data2 = content_id_stats,\n",
    "                               key = 'key_anwser',\n",
    "                               chunksize = 500000)\n",
    "del content_id_stats\n",
    "gc.collect()"
   ]
  },
  {
   "cell_type": "code",
   "execution_count": null,
   "metadata": {},
   "outputs": [],
   "source": [
    "%%time\n",
    "#Reorder data before extracting np arays\n",
    "data = data.sort_values(by=['key', 'timestamp'])"
   ]
  },
  {
   "cell_type": "code",
   "execution_count": null,
   "metadata": {},
   "outputs": [],
   "source": [
    "%%time\n",
    "#SAVE DATA\n",
    "#Convert pandas columns to array \n",
    "answered_correctly_count = np.array(data['answered_correctly_count'].tolist())\n",
    "answered_correctly_skew = np.array(data['answered_correctly_skew'].tolist())\n",
    "answered_correctly_mean = np.array(data['answered_correctly_mean'].tolist())\n",
    "answered_correctly_std = np.array(data['answered_correctly_std'].tolist())\n",
    "answered_correctly_median = np.array(data['answered_correctly_median'].tolist())\n",
    "del data\n",
    "gc.collect()"
   ]
  },
  {
   "cell_type": "code",
   "execution_count": null,
   "metadata": {},
   "outputs": [],
   "source": [
    "%%time\n",
    "np.savez_compressed('/Users/nlisch/downloads/Kaggle_riid/process/answer_content_stats_final.npz',\n",
    "                    content_answered_correctly_count = answered_correctly_count,\n",
    "                    content_answered_correctly_skew = answered_correctly_skew,\n",
    "                    content_answered_correctly_mean = answered_correctly_mean,\n",
    "                    content_answered_correctly_std = answered_correctly_std,\n",
    "                    content_answered_correctly_median = answered_correctly_median\n",
    "                   )\n",
    "del answered_correctly_count\n",
    "del answered_correctly_skew\n",
    "del answered_correctly_mean\n",
    "del answered_correctly_std\n",
    "del answered_correctly_median\n",
    "gc.collect()"
   ]
  },
  {
   "cell_type": "markdown",
   "metadata": {},
   "source": [
    "# Bundle"
   ]
  },
  {
   "cell_type": "code",
   "execution_count": null,
   "metadata": {},
   "outputs": [],
   "source": [
    "%%time\n",
    "file_path = '/Users/nlisch/downloads/Kaggle_riid/process/data_clean.npz'\n",
    "columns = ['bundle_id', 'answered_correctly', 'key', 'timestamp' ]\n",
    "data = load_data_np(file_path, columns, \"full_dataset\")"
   ]
  },
  {
   "cell_type": "code",
   "execution_count": null,
   "metadata": {},
   "outputs": [],
   "source": [
    "%%time\n",
    "bundle_id_stats = data.groupby('bundle_id').agg({'answered_correctly': ['skew', 'mean', 'std', 'median'] }).reset_index()"
   ]
  },
  {
   "cell_type": "code",
   "execution_count": null,
   "metadata": {},
   "outputs": [],
   "source": [
    "%%time\n",
    "bundle_id_stats.columns = bundle_id_stats.columns.map('_'.join)\n",
    "bundle_id_stats.rename(columns = {\n",
    " 'bundle_id_':'bundle_id'}, inplace = True)"
   ]
  },
  {
   "cell_type": "code",
   "execution_count": null,
   "metadata": {},
   "outputs": [],
   "source": [
    "%%time\n",
    "#SAVE DATA\n",
    "#Convert pandas columns to array\n",
    "bundle_id = np.array(bundle_id_stats['bundle_id'].tolist())\n",
    "answered_correctly_skew = np.array(bundle_id_stats['answered_correctly_skew'].tolist())\n",
    "answered_correctly_mean = np.array(bundle_id_stats['answered_correctly_mean'].tolist())\n",
    "answered_correctly_std = np.array(bundle_id_stats['answered_correctly_std'].tolist())\n",
    "answered_correctly_median = np.array(bundle_id_stats['answered_correctly_median'].tolist())"
   ]
  },
  {
   "cell_type": "code",
   "execution_count": null,
   "metadata": {},
   "outputs": [],
   "source": [
    "%%time\n",
    "np.savez_compressed('/Users/nlisch/downloads/Kaggle_riid/process/prediction/bundle_stats_final_to_predict.npz',\n",
    "                    bundle_id = bundle_id,\n",
    "                    bundle_answered_correctly_skew = answered_correctly_skew,\n",
    "                    bundle_answered_correctly_mean = answered_correctly_mean,\n",
    "                    bundle_answered_correctly_std = answered_correctly_std,\n",
    "                    bundle_answered_correctly_median = answered_correctly_median\n",
    "                   )"
   ]
  },
  {
   "cell_type": "raw",
   "metadata": {},
   "source": [
    "bundle_id_stats.set_index('bundle_id', inplace=True, drop=True)"
   ]
  },
  {
   "cell_type": "code",
   "execution_count": null,
   "metadata": {},
   "outputs": [],
   "source": [
    "def merge__by_chunks_pandas(data, data2, key, chunksize):\n",
    "    start = time.time()\n",
    "    frames = {}\n",
    "    chunk_size =  chunksize\n",
    "    size_final_file = data.shape[0]\n",
    "    cols = data.shape[1]\n",
    "    nb_iterations = math.ceil((data.shape[0]/chunk_size))\n",
    "    subset_start = 0\n",
    "    print('Start iteractions over {} chunks to convert {:,} rows of data with {} columns'.format(nb_iterations, size_final_file, cols))\n",
    "    print('Each chunk will process {:,} / {:,}'.format(chunksize, data.shape[0]))\n",
    "    for i in tqdm(range(0,nb_iterations), position=0, leave=True):\n",
    "        subset_end = subset_start + chunk_size\n",
    "        print('subset_start : {}'.format(subset_start))\n",
    "        print('subset_end : {}'.format(subset_end))\n",
    "        print('Total Rows : {}'.format(data.shape[0]))\n",
    "        if data.shape[0]<subset_end:\n",
    "            subset_end = data.shape[0]\n",
    "            print('subset end updated to remaining rows')\n",
    "        if subset_end <= (data.shape[0]) :\n",
    "            #data.set_index(key, inplace=True, drop=False)\n",
    "            #data2.set_index(key, inplace=True, drop=False)\n",
    "            subset = data[subset_start:subset_end]\n",
    "            print('chunk #{} size : {:,} rows'.format(str(i + 1), subset.shape[0]))\n",
    "            subset = subset.merge(data2, how = 'left', on=key)\n",
    "            subset['chunk'] = i\n",
    "            frames[i] = subset\n",
    "            print ('data load for chunk {}'.format(i + 1))\n",
    "            subset_start =  subset_end\n",
    "            step = time.time()\n",
    "            print( \"Time to process data load for chunk {} :  \\n {:.2f} min\".format( i + 1, (step - start) / 60))\n",
    "    print( \"Starting Aggregate pandas dataframes\")\n",
    "    if len(frames) > 1:\n",
    "        # Concat all new dataframes\n",
    "        final = pd.concat(frames.values(), ignore_index=True)\n",
    "    else:\n",
    "        final = frames.values()\n",
    "    print (\"Finished\")\n",
    "    return final"
   ]
  },
  {
   "cell_type": "code",
   "execution_count": null,
   "metadata": {},
   "outputs": [],
   "source": [
    "%%time\n",
    "data = merge__by_chunks_pandas(data = data,\n",
    "                               data2 = bundle_id_stats,\n",
    "                               key = 'bundle_id',\n",
    "                               chunksize = 500000)\n",
    "del bundle_id_stats\n",
    "gc.collect()"
   ]
  },
  {
   "cell_type": "code",
   "execution_count": null,
   "metadata": {},
   "outputs": [],
   "source": [
    "%%time\n",
    "#Reorder data before extracting np arays\n",
    "data = data.sort_values(by=['key', 'timestamp'])"
   ]
  },
  {
   "cell_type": "code",
   "execution_count": null,
   "metadata": {},
   "outputs": [],
   "source": [
    "%%time\n",
    "#SAVE DATA\n",
    "#Convert pandas columns to array  \n",
    "answered_correctly_skew = np.array(data['answered_correctly_skew'].tolist())\n",
    "answered_correctly_mean = np.array(data['answered_correctly_mean'].tolist())\n",
    "answered_correctly_std = np.array(data['answered_correctly_std'].tolist())\n",
    "answered_correctly_median = np.array(data['answered_correctly_median'].tolist())\n",
    "del data\n",
    "gc.collect()"
   ]
  },
  {
   "cell_type": "code",
   "execution_count": null,
   "metadata": {},
   "outputs": [],
   "source": [
    "%%time\n",
    "np.savez_compressed('/Users/nlisch/downloads/Kaggle_riid/process/bundle_stats_final.npz',\n",
    "                    bundle_answered_correctly_skew = answered_correctly_skew,\n",
    "                    bundle_answered_correctly_mean = answered_correctly_mean,\n",
    "                    bundle_answered_correctly_std = answered_correctly_std,\n",
    "                    bundle_answered_correctly_median = answered_correctly_median\n",
    "                   )\n",
    "del answered_correctly_skew\n",
    "del answered_correctly_mean\n",
    "del answered_correctly_std\n",
    "del answered_correctly_median\n",
    "gc.collect()"
   ]
  },
  {
   "cell_type": "markdown",
   "metadata": {},
   "source": [
    "# Lagtime"
   ]
  },
  {
   "cell_type": "code",
   "execution_count": 9,
   "metadata": {},
   "outputs": [
    {
     "name": "stderr",
     "output_type": "stream",
     "text": [
      "100%|██████████| 4/4 [00:50<00:00, 12.68s/it]"
     ]
    },
    {
     "name": "stdout",
     "output_type": "stream",
     "text": [
      "CPU times: user 27.7 s, sys: 18.4 s, total: 46.1 s\n",
      "Wall time: 51.1 s\n"
     ]
    },
    {
     "name": "stderr",
     "output_type": "stream",
     "text": [
      "\n"
     ]
    }
   ],
   "source": [
    "%%time\n",
    "file_path = '/Users/nlisch/downloads/Kaggle_riid/process/data_clean.npz'\n",
    "columns = ['user_id', 'answered_correctly', 'key', 'timestamp' ]\n",
    "lagtime_stats = load_data_np(file_path, columns, \"full_dataset\")"
   ]
  },
  {
   "cell_type": "code",
   "execution_count": 10,
   "metadata": {},
   "outputs": [],
   "source": [
    "lagtime_stats = lagtime_stats.sort_values(by=['user_id', 'timestamp'])"
   ]
  },
  {
   "cell_type": "code",
   "execution_count": 11,
   "metadata": {},
   "outputs": [],
   "source": [
    "lagtime_stats['p_timestamp'] = lagtime_stats.groupby('user_id')['timestamp'].shift()"
   ]
  },
  {
   "cell_type": "code",
   "execution_count": 12,
   "metadata": {},
   "outputs": [],
   "source": [
    "lagtime_stats['previous_answer'] = lagtime_stats.groupby(['user_id'])['answered_correctly'].shift()"
   ]
  },
  {
   "cell_type": "code",
   "execution_count": 13,
   "metadata": {},
   "outputs": [
    {
     "data": {
      "text/html": [
       "<div>\n",
       "<style scoped>\n",
       "    .dataframe tbody tr th:only-of-type {\n",
       "        vertical-align: middle;\n",
       "    }\n",
       "\n",
       "    .dataframe tbody tr th {\n",
       "        vertical-align: top;\n",
       "    }\n",
       "\n",
       "    .dataframe thead th {\n",
       "        text-align: right;\n",
       "    }\n",
       "</style>\n",
       "<table border=\"1\" class=\"dataframe\">\n",
       "  <thead>\n",
       "    <tr style=\"text-align: right;\">\n",
       "      <th></th>\n",
       "      <th>user_id</th>\n",
       "      <th>answered_correctly</th>\n",
       "      <th>key</th>\n",
       "      <th>timestamp</th>\n",
       "      <th>p_timestamp</th>\n",
       "      <th>previous_answer</th>\n",
       "    </tr>\n",
       "  </thead>\n",
       "  <tbody>\n",
       "    <tr>\n",
       "      <td>7544707</td>\n",
       "      <td>115</td>\n",
       "      <td>1</td>\n",
       "      <td>115-5692</td>\n",
       "      <td>0</td>\n",
       "      <td>NaN</td>\n",
       "      <td>NaN</td>\n",
       "    </tr>\n",
       "    <tr>\n",
       "      <td>7544709</td>\n",
       "      <td>115</td>\n",
       "      <td>1</td>\n",
       "      <td>115-5716</td>\n",
       "      <td>56943</td>\n",
       "      <td>0.0</td>\n",
       "      <td>1.0</td>\n",
       "    </tr>\n",
       "    <tr>\n",
       "      <td>7544686</td>\n",
       "      <td>115</td>\n",
       "      <td>1</td>\n",
       "      <td>115-128</td>\n",
       "      <td>118363</td>\n",
       "      <td>56943.0</td>\n",
       "      <td>1.0</td>\n",
       "    </tr>\n",
       "    <tr>\n",
       "      <td>7544712</td>\n",
       "      <td>115</td>\n",
       "      <td>1</td>\n",
       "      <td>115-7860</td>\n",
       "      <td>131167</td>\n",
       "      <td>118363.0</td>\n",
       "      <td>1.0</td>\n",
       "    </tr>\n",
       "    <tr>\n",
       "      <td>7544721</td>\n",
       "      <td>115</td>\n",
       "      <td>1</td>\n",
       "      <td>115-7922</td>\n",
       "      <td>137965</td>\n",
       "      <td>131167.0</td>\n",
       "      <td>1.0</td>\n",
       "    </tr>\n",
       "    <tr>\n",
       "      <td>...</td>\n",
       "      <td>...</td>\n",
       "      <td>...</td>\n",
       "      <td>...</td>\n",
       "      <td>...</td>\n",
       "      <td>...</td>\n",
       "      <td>...</td>\n",
       "    </tr>\n",
       "    <tr>\n",
       "      <td>75159687</td>\n",
       "      <td>5382</td>\n",
       "      <td>1</td>\n",
       "      <td>5382-5000</td>\n",
       "      <td>0</td>\n",
       "      <td>NaN</td>\n",
       "      <td>NaN</td>\n",
       "    </tr>\n",
       "    <tr>\n",
       "      <td>75159658</td>\n",
       "      <td>5382</td>\n",
       "      <td>0</td>\n",
       "      <td>5382-3944</td>\n",
       "      <td>39828</td>\n",
       "      <td>0.0</td>\n",
       "      <td>1.0</td>\n",
       "    </tr>\n",
       "    <tr>\n",
       "      <td>75159646</td>\n",
       "      <td>5382</td>\n",
       "      <td>1</td>\n",
       "      <td>5382-217</td>\n",
       "      <td>132189</td>\n",
       "      <td>39828.0</td>\n",
       "      <td>0.0</td>\n",
       "    </tr>\n",
       "    <tr>\n",
       "      <td>75159708</td>\n",
       "      <td>5382</td>\n",
       "      <td>0</td>\n",
       "      <td>5382-5844</td>\n",
       "      <td>153727</td>\n",
       "      <td>132189.0</td>\n",
       "      <td>1.0</td>\n",
       "    </tr>\n",
       "    <tr>\n",
       "      <td>75159710</td>\n",
       "      <td>5382</td>\n",
       "      <td>1</td>\n",
       "      <td>5382-5965</td>\n",
       "      <td>169080</td>\n",
       "      <td>153727.0</td>\n",
       "      <td>0.0</td>\n",
       "    </tr>\n",
       "  </tbody>\n",
       "</table>\n",
       "<p>100 rows × 6 columns</p>\n",
       "</div>"
      ],
      "text/plain": [
       "          user_id  answered_correctly        key  timestamp  p_timestamp  \\\n",
       "7544707       115                   1   115-5692          0          NaN   \n",
       "7544709       115                   1   115-5716      56943          0.0   \n",
       "7544686       115                   1    115-128     118363      56943.0   \n",
       "7544712       115                   1   115-7860     131167     118363.0   \n",
       "7544721       115                   1   115-7922     137965     131167.0   \n",
       "...           ...                 ...        ...        ...          ...   \n",
       "75159687     5382                   1  5382-5000          0          NaN   \n",
       "75159658     5382                   0  5382-3944      39828          0.0   \n",
       "75159646     5382                   1   5382-217     132189      39828.0   \n",
       "75159708     5382                   0  5382-5844     153727     132189.0   \n",
       "75159710     5382                   1  5382-5965     169080     153727.0   \n",
       "\n",
       "          previous_answer  \n",
       "7544707               NaN  \n",
       "7544709               1.0  \n",
       "7544686               1.0  \n",
       "7544712               1.0  \n",
       "7544721               1.0  \n",
       "...                   ...  \n",
       "75159687              NaN  \n",
       "75159658              1.0  \n",
       "75159646              0.0  \n",
       "75159708              1.0  \n",
       "75159710              0.0  \n",
       "\n",
       "[100 rows x 6 columns]"
      ]
     },
     "execution_count": 13,
     "metadata": {},
     "output_type": "execute_result"
    }
   ],
   "source": [
    "lagtime_stats.head(100)"
   ]
  },
  {
   "cell_type": "code",
   "execution_count": 14,
   "metadata": {},
   "outputs": [],
   "source": [
    "cum = lagtime_stats.groupby('user_id')['previous_answer'].agg(['cumsum', 'cumcount'])"
   ]
  },
  {
   "cell_type": "code",
   "execution_count": 15,
   "metadata": {},
   "outputs": [],
   "source": [
    "lagtime_stats['user_answered_correctly_mean_real'] = cum['cumsum'] / cum['cumcount']\n",
    "lagtime_stats['user_answered_correctly_count'] = cum['cumcount']\n",
    "lagtime_stats['answered_correctly_user'] = cum['cumsum']\n",
    "lagtime_stats.drop(columns=['previous_answer'], inplace=True)"
   ]
  },
  {
   "cell_type": "code",
   "execution_count": 16,
   "metadata": {},
   "outputs": [],
   "source": [
    "lagtime_stats['user_answered_correctly_mean_real'].fillna(0, inplace=True)"
   ]
  },
  {
   "cell_type": "code",
   "execution_count": 17,
   "metadata": {},
   "outputs": [
    {
     "data": {
      "text/html": [
       "<div>\n",
       "<style scoped>\n",
       "    .dataframe tbody tr th:only-of-type {\n",
       "        vertical-align: middle;\n",
       "    }\n",
       "\n",
       "    .dataframe tbody tr th {\n",
       "        vertical-align: top;\n",
       "    }\n",
       "\n",
       "    .dataframe thead th {\n",
       "        text-align: right;\n",
       "    }\n",
       "</style>\n",
       "<table border=\"1\" class=\"dataframe\">\n",
       "  <thead>\n",
       "    <tr style=\"text-align: right;\">\n",
       "      <th></th>\n",
       "      <th>user_id</th>\n",
       "      <th>answered_correctly</th>\n",
       "      <th>key</th>\n",
       "      <th>timestamp</th>\n",
       "      <th>p_timestamp</th>\n",
       "      <th>user_answered_correctly_mean_real</th>\n",
       "      <th>user_answered_correctly_count</th>\n",
       "      <th>answered_correctly_user</th>\n",
       "    </tr>\n",
       "  </thead>\n",
       "  <tbody>\n",
       "    <tr>\n",
       "      <td>7544707</td>\n",
       "      <td>115</td>\n",
       "      <td>1</td>\n",
       "      <td>115-5692</td>\n",
       "      <td>0</td>\n",
       "      <td>NaN</td>\n",
       "      <td>0.000000</td>\n",
       "      <td>0</td>\n",
       "      <td>NaN</td>\n",
       "    </tr>\n",
       "    <tr>\n",
       "      <td>7544709</td>\n",
       "      <td>115</td>\n",
       "      <td>1</td>\n",
       "      <td>115-5716</td>\n",
       "      <td>56943</td>\n",
       "      <td>0.0</td>\n",
       "      <td>1.000000</td>\n",
       "      <td>1</td>\n",
       "      <td>1.0</td>\n",
       "    </tr>\n",
       "    <tr>\n",
       "      <td>7544686</td>\n",
       "      <td>115</td>\n",
       "      <td>1</td>\n",
       "      <td>115-128</td>\n",
       "      <td>118363</td>\n",
       "      <td>56943.0</td>\n",
       "      <td>1.000000</td>\n",
       "      <td>2</td>\n",
       "      <td>2.0</td>\n",
       "    </tr>\n",
       "    <tr>\n",
       "      <td>7544712</td>\n",
       "      <td>115</td>\n",
       "      <td>1</td>\n",
       "      <td>115-7860</td>\n",
       "      <td>131167</td>\n",
       "      <td>118363.0</td>\n",
       "      <td>1.000000</td>\n",
       "      <td>3</td>\n",
       "      <td>3.0</td>\n",
       "    </tr>\n",
       "    <tr>\n",
       "      <td>7544721</td>\n",
       "      <td>115</td>\n",
       "      <td>1</td>\n",
       "      <td>115-7922</td>\n",
       "      <td>137965</td>\n",
       "      <td>131167.0</td>\n",
       "      <td>1.000000</td>\n",
       "      <td>4</td>\n",
       "      <td>4.0</td>\n",
       "    </tr>\n",
       "    <tr>\n",
       "      <td>7544689</td>\n",
       "      <td>115</td>\n",
       "      <td>1</td>\n",
       "      <td>115-156</td>\n",
       "      <td>157063</td>\n",
       "      <td>137965.0</td>\n",
       "      <td>1.000000</td>\n",
       "      <td>5</td>\n",
       "      <td>5.0</td>\n",
       "    </tr>\n",
       "    <tr>\n",
       "      <td>7544705</td>\n",
       "      <td>115</td>\n",
       "      <td>1</td>\n",
       "      <td>115-51</td>\n",
       "      <td>176092</td>\n",
       "      <td>157063.0</td>\n",
       "      <td>1.000000</td>\n",
       "      <td>6</td>\n",
       "      <td>6.0</td>\n",
       "    </tr>\n",
       "    <tr>\n",
       "      <td>7544704</td>\n",
       "      <td>115</td>\n",
       "      <td>1</td>\n",
       "      <td>115-50</td>\n",
       "      <td>194190</td>\n",
       "      <td>176092.0</td>\n",
       "      <td>1.000000</td>\n",
       "      <td>7</td>\n",
       "      <td>7.0</td>\n",
       "    </tr>\n",
       "    <tr>\n",
       "      <td>7544716</td>\n",
       "      <td>115</td>\n",
       "      <td>1</td>\n",
       "      <td>115-7896</td>\n",
       "      <td>212463</td>\n",
       "      <td>194190.0</td>\n",
       "      <td>1.000000</td>\n",
       "      <td>8</td>\n",
       "      <td>8.0</td>\n",
       "    </tr>\n",
       "    <tr>\n",
       "      <td>7544713</td>\n",
       "      <td>115</td>\n",
       "      <td>1</td>\n",
       "      <td>115-7863</td>\n",
       "      <td>230983</td>\n",
       "      <td>212463.0</td>\n",
       "      <td>1.000000</td>\n",
       "      <td>9</td>\n",
       "      <td>9.0</td>\n",
       "    </tr>\n",
       "    <tr>\n",
       "      <td>7544688</td>\n",
       "      <td>115</td>\n",
       "      <td>0</td>\n",
       "      <td>115-152</td>\n",
       "      <td>255381</td>\n",
       "      <td>230983.0</td>\n",
       "      <td>1.000000</td>\n",
       "      <td>10</td>\n",
       "      <td>10.0</td>\n",
       "    </tr>\n",
       "    <tr>\n",
       "      <td>7544683</td>\n",
       "      <td>115</td>\n",
       "      <td>0</td>\n",
       "      <td>115-104</td>\n",
       "      <td>280033</td>\n",
       "      <td>255381.0</td>\n",
       "      <td>0.909091</td>\n",
       "      <td>11</td>\n",
       "      <td>10.0</td>\n",
       "    </tr>\n",
       "    <tr>\n",
       "      <td>7544684</td>\n",
       "      <td>115</td>\n",
       "      <td>0</td>\n",
       "      <td>115-108</td>\n",
       "      <td>302994</td>\n",
       "      <td>280033.0</td>\n",
       "      <td>0.833333</td>\n",
       "      <td>12</td>\n",
       "      <td>10.0</td>\n",
       "    </tr>\n",
       "    <tr>\n",
       "      <td>7544719</td>\n",
       "      <td>115</td>\n",
       "      <td>1</td>\n",
       "      <td>115-7900</td>\n",
       "      <td>328686</td>\n",
       "      <td>302994.0</td>\n",
       "      <td>0.769231</td>\n",
       "      <td>13</td>\n",
       "      <td>10.0</td>\n",
       "    </tr>\n",
       "    <tr>\n",
       "      <td>7544720</td>\n",
       "      <td>115</td>\n",
       "      <td>1</td>\n",
       "      <td>115-7901</td>\n",
       "      <td>352686</td>\n",
       "      <td>328686.0</td>\n",
       "      <td>0.785714</td>\n",
       "      <td>14</td>\n",
       "      <td>11.0</td>\n",
       "    </tr>\n",
       "    <tr>\n",
       "      <td>7544726</td>\n",
       "      <td>115</td>\n",
       "      <td>1</td>\n",
       "      <td>115-7971</td>\n",
       "      <td>376162</td>\n",
       "      <td>352686.0</td>\n",
       "      <td>0.800000</td>\n",
       "      <td>15</td>\n",
       "      <td>12.0</td>\n",
       "    </tr>\n",
       "    <tr>\n",
       "      <td>7544698</td>\n",
       "      <td>115</td>\n",
       "      <td>1</td>\n",
       "      <td>115-25</td>\n",
       "      <td>398020</td>\n",
       "      <td>376162.0</td>\n",
       "      <td>0.812500</td>\n",
       "      <td>16</td>\n",
       "      <td>13.0</td>\n",
       "    </tr>\n",
       "    <tr>\n",
       "      <td>7544693</td>\n",
       "      <td>115</td>\n",
       "      <td>0</td>\n",
       "      <td>115-183</td>\n",
       "      <td>418008</td>\n",
       "      <td>398020.0</td>\n",
       "      <td>0.823529</td>\n",
       "      <td>17</td>\n",
       "      <td>14.0</td>\n",
       "    </tr>\n",
       "    <tr>\n",
       "      <td>7544722</td>\n",
       "      <td>115</td>\n",
       "      <td>1</td>\n",
       "      <td>115-7926</td>\n",
       "      <td>437272</td>\n",
       "      <td>418008.0</td>\n",
       "      <td>0.777778</td>\n",
       "      <td>18</td>\n",
       "      <td>14.0</td>\n",
       "    </tr>\n",
       "    <tr>\n",
       "      <td>7544723</td>\n",
       "      <td>115</td>\n",
       "      <td>1</td>\n",
       "      <td>115-7927</td>\n",
       "      <td>468511</td>\n",
       "      <td>437272.0</td>\n",
       "      <td>0.789474</td>\n",
       "      <td>19</td>\n",
       "      <td>15.0</td>\n",
       "    </tr>\n",
       "  </tbody>\n",
       "</table>\n",
       "</div>"
      ],
      "text/plain": [
       "         user_id  answered_correctly       key  timestamp  p_timestamp  \\\n",
       "7544707      115                   1  115-5692          0          NaN   \n",
       "7544709      115                   1  115-5716      56943          0.0   \n",
       "7544686      115                   1   115-128     118363      56943.0   \n",
       "7544712      115                   1  115-7860     131167     118363.0   \n",
       "7544721      115                   1  115-7922     137965     131167.0   \n",
       "7544689      115                   1   115-156     157063     137965.0   \n",
       "7544705      115                   1    115-51     176092     157063.0   \n",
       "7544704      115                   1    115-50     194190     176092.0   \n",
       "7544716      115                   1  115-7896     212463     194190.0   \n",
       "7544713      115                   1  115-7863     230983     212463.0   \n",
       "7544688      115                   0   115-152     255381     230983.0   \n",
       "7544683      115                   0   115-104     280033     255381.0   \n",
       "7544684      115                   0   115-108     302994     280033.0   \n",
       "7544719      115                   1  115-7900     328686     302994.0   \n",
       "7544720      115                   1  115-7901     352686     328686.0   \n",
       "7544726      115                   1  115-7971     376162     352686.0   \n",
       "7544698      115                   1    115-25     398020     376162.0   \n",
       "7544693      115                   0   115-183     418008     398020.0   \n",
       "7544722      115                   1  115-7926     437272     418008.0   \n",
       "7544723      115                   1  115-7927     468511     437272.0   \n",
       "\n",
       "         user_answered_correctly_mean_real  user_answered_correctly_count  \\\n",
       "7544707                           0.000000                              0   \n",
       "7544709                           1.000000                              1   \n",
       "7544686                           1.000000                              2   \n",
       "7544712                           1.000000                              3   \n",
       "7544721                           1.000000                              4   \n",
       "7544689                           1.000000                              5   \n",
       "7544705                           1.000000                              6   \n",
       "7544704                           1.000000                              7   \n",
       "7544716                           1.000000                              8   \n",
       "7544713                           1.000000                              9   \n",
       "7544688                           1.000000                             10   \n",
       "7544683                           0.909091                             11   \n",
       "7544684                           0.833333                             12   \n",
       "7544719                           0.769231                             13   \n",
       "7544720                           0.785714                             14   \n",
       "7544726                           0.800000                             15   \n",
       "7544698                           0.812500                             16   \n",
       "7544693                           0.823529                             17   \n",
       "7544722                           0.777778                             18   \n",
       "7544723                           0.789474                             19   \n",
       "\n",
       "         answered_correctly_user  \n",
       "7544707                      NaN  \n",
       "7544709                      1.0  \n",
       "7544686                      2.0  \n",
       "7544712                      3.0  \n",
       "7544721                      4.0  \n",
       "7544689                      5.0  \n",
       "7544705                      6.0  \n",
       "7544704                      7.0  \n",
       "7544716                      8.0  \n",
       "7544713                      9.0  \n",
       "7544688                     10.0  \n",
       "7544683                     10.0  \n",
       "7544684                     10.0  \n",
       "7544719                     10.0  \n",
       "7544720                     11.0  \n",
       "7544726                     12.0  \n",
       "7544698                     13.0  \n",
       "7544693                     14.0  \n",
       "7544722                     14.0  \n",
       "7544723                     15.0  "
      ]
     },
     "execution_count": 17,
     "metadata": {},
     "output_type": "execute_result"
    }
   ],
   "source": [
    "lagtime_stats.head(20)"
   ]
  },
  {
   "cell_type": "raw",
   "metadata": {},
   "source": [
    "#Check one user\n",
    "data[['row_id',\n",
    "         'user_id',\n",
    "         'content_id',\n",
    "         'timestamp',\n",
    "         'previous_false_answer',\n",
    "         'previous_correct_answer',\n",
    "         'answered_correctly',\n",
    "         'false_answer',\n",
    "         'nb_previous_questions_answered',\n",
    "         'previous_answer']][(data['user_id'] == 1509564249) & (data['content_id'] == 5681)]\\\n",
    "          .sort_values(by=['content_id','timestamp'])"
   ]
  },
  {
   "cell_type": "code",
   "execution_count": 18,
   "metadata": {},
   "outputs": [
    {
     "data": {
      "text/html": [
       "<div>\n",
       "<style scoped>\n",
       "    .dataframe tbody tr th:only-of-type {\n",
       "        vertical-align: middle;\n",
       "    }\n",
       "\n",
       "    .dataframe tbody tr th {\n",
       "        vertical-align: top;\n",
       "    }\n",
       "\n",
       "    .dataframe thead th {\n",
       "        text-align: right;\n",
       "    }\n",
       "</style>\n",
       "<table border=\"1\" class=\"dataframe\">\n",
       "  <thead>\n",
       "    <tr style=\"text-align: right;\">\n",
       "      <th></th>\n",
       "      <th>user_id</th>\n",
       "      <th>answered_correctly</th>\n",
       "      <th>key</th>\n",
       "      <th>timestamp</th>\n",
       "      <th>p_timestamp</th>\n",
       "      <th>user_answered_correctly_mean_real</th>\n",
       "      <th>user_answered_correctly_count</th>\n",
       "      <th>answered_correctly_user</th>\n",
       "    </tr>\n",
       "  </thead>\n",
       "  <tbody>\n",
       "    <tr>\n",
       "      <td>7544707</td>\n",
       "      <td>115</td>\n",
       "      <td>1</td>\n",
       "      <td>115-5692</td>\n",
       "      <td>0</td>\n",
       "      <td>NaN</td>\n",
       "      <td>0.000000</td>\n",
       "      <td>0</td>\n",
       "      <td>NaN</td>\n",
       "    </tr>\n",
       "    <tr>\n",
       "      <td>7544709</td>\n",
       "      <td>115</td>\n",
       "      <td>1</td>\n",
       "      <td>115-5716</td>\n",
       "      <td>56943</td>\n",
       "      <td>0.0</td>\n",
       "      <td>1.000000</td>\n",
       "      <td>1</td>\n",
       "      <td>1.0</td>\n",
       "    </tr>\n",
       "    <tr>\n",
       "      <td>7544686</td>\n",
       "      <td>115</td>\n",
       "      <td>1</td>\n",
       "      <td>115-128</td>\n",
       "      <td>118363</td>\n",
       "      <td>56943.0</td>\n",
       "      <td>1.000000</td>\n",
       "      <td>2</td>\n",
       "      <td>2.0</td>\n",
       "    </tr>\n",
       "    <tr>\n",
       "      <td>7544712</td>\n",
       "      <td>115</td>\n",
       "      <td>1</td>\n",
       "      <td>115-7860</td>\n",
       "      <td>131167</td>\n",
       "      <td>118363.0</td>\n",
       "      <td>1.000000</td>\n",
       "      <td>3</td>\n",
       "      <td>3.0</td>\n",
       "    </tr>\n",
       "    <tr>\n",
       "      <td>7544721</td>\n",
       "      <td>115</td>\n",
       "      <td>1</td>\n",
       "      <td>115-7922</td>\n",
       "      <td>137965</td>\n",
       "      <td>131167.0</td>\n",
       "      <td>1.000000</td>\n",
       "      <td>4</td>\n",
       "      <td>4.0</td>\n",
       "    </tr>\n",
       "    <tr>\n",
       "      <td>7544689</td>\n",
       "      <td>115</td>\n",
       "      <td>1</td>\n",
       "      <td>115-156</td>\n",
       "      <td>157063</td>\n",
       "      <td>137965.0</td>\n",
       "      <td>1.000000</td>\n",
       "      <td>5</td>\n",
       "      <td>5.0</td>\n",
       "    </tr>\n",
       "    <tr>\n",
       "      <td>7544705</td>\n",
       "      <td>115</td>\n",
       "      <td>1</td>\n",
       "      <td>115-51</td>\n",
       "      <td>176092</td>\n",
       "      <td>157063.0</td>\n",
       "      <td>1.000000</td>\n",
       "      <td>6</td>\n",
       "      <td>6.0</td>\n",
       "    </tr>\n",
       "    <tr>\n",
       "      <td>7544704</td>\n",
       "      <td>115</td>\n",
       "      <td>1</td>\n",
       "      <td>115-50</td>\n",
       "      <td>194190</td>\n",
       "      <td>176092.0</td>\n",
       "      <td>1.000000</td>\n",
       "      <td>7</td>\n",
       "      <td>7.0</td>\n",
       "    </tr>\n",
       "    <tr>\n",
       "      <td>7544716</td>\n",
       "      <td>115</td>\n",
       "      <td>1</td>\n",
       "      <td>115-7896</td>\n",
       "      <td>212463</td>\n",
       "      <td>194190.0</td>\n",
       "      <td>1.000000</td>\n",
       "      <td>8</td>\n",
       "      <td>8.0</td>\n",
       "    </tr>\n",
       "    <tr>\n",
       "      <td>7544713</td>\n",
       "      <td>115</td>\n",
       "      <td>1</td>\n",
       "      <td>115-7863</td>\n",
       "      <td>230983</td>\n",
       "      <td>212463.0</td>\n",
       "      <td>1.000000</td>\n",
       "      <td>9</td>\n",
       "      <td>9.0</td>\n",
       "    </tr>\n",
       "    <tr>\n",
       "      <td>7544688</td>\n",
       "      <td>115</td>\n",
       "      <td>0</td>\n",
       "      <td>115-152</td>\n",
       "      <td>255381</td>\n",
       "      <td>230983.0</td>\n",
       "      <td>1.000000</td>\n",
       "      <td>10</td>\n",
       "      <td>10.0</td>\n",
       "    </tr>\n",
       "    <tr>\n",
       "      <td>7544683</td>\n",
       "      <td>115</td>\n",
       "      <td>0</td>\n",
       "      <td>115-104</td>\n",
       "      <td>280033</td>\n",
       "      <td>255381.0</td>\n",
       "      <td>0.909091</td>\n",
       "      <td>11</td>\n",
       "      <td>10.0</td>\n",
       "    </tr>\n",
       "    <tr>\n",
       "      <td>7544684</td>\n",
       "      <td>115</td>\n",
       "      <td>0</td>\n",
       "      <td>115-108</td>\n",
       "      <td>302994</td>\n",
       "      <td>280033.0</td>\n",
       "      <td>0.833333</td>\n",
       "      <td>12</td>\n",
       "      <td>10.0</td>\n",
       "    </tr>\n",
       "    <tr>\n",
       "      <td>7544719</td>\n",
       "      <td>115</td>\n",
       "      <td>1</td>\n",
       "      <td>115-7900</td>\n",
       "      <td>328686</td>\n",
       "      <td>302994.0</td>\n",
       "      <td>0.769231</td>\n",
       "      <td>13</td>\n",
       "      <td>10.0</td>\n",
       "    </tr>\n",
       "    <tr>\n",
       "      <td>7544720</td>\n",
       "      <td>115</td>\n",
       "      <td>1</td>\n",
       "      <td>115-7901</td>\n",
       "      <td>352686</td>\n",
       "      <td>328686.0</td>\n",
       "      <td>0.785714</td>\n",
       "      <td>14</td>\n",
       "      <td>11.0</td>\n",
       "    </tr>\n",
       "    <tr>\n",
       "      <td>7544726</td>\n",
       "      <td>115</td>\n",
       "      <td>1</td>\n",
       "      <td>115-7971</td>\n",
       "      <td>376162</td>\n",
       "      <td>352686.0</td>\n",
       "      <td>0.800000</td>\n",
       "      <td>15</td>\n",
       "      <td>12.0</td>\n",
       "    </tr>\n",
       "    <tr>\n",
       "      <td>7544698</td>\n",
       "      <td>115</td>\n",
       "      <td>1</td>\n",
       "      <td>115-25</td>\n",
       "      <td>398020</td>\n",
       "      <td>376162.0</td>\n",
       "      <td>0.812500</td>\n",
       "      <td>16</td>\n",
       "      <td>13.0</td>\n",
       "    </tr>\n",
       "    <tr>\n",
       "      <td>7544693</td>\n",
       "      <td>115</td>\n",
       "      <td>0</td>\n",
       "      <td>115-183</td>\n",
       "      <td>418008</td>\n",
       "      <td>398020.0</td>\n",
       "      <td>0.823529</td>\n",
       "      <td>17</td>\n",
       "      <td>14.0</td>\n",
       "    </tr>\n",
       "    <tr>\n",
       "      <td>7544722</td>\n",
       "      <td>115</td>\n",
       "      <td>1</td>\n",
       "      <td>115-7926</td>\n",
       "      <td>437272</td>\n",
       "      <td>418008.0</td>\n",
       "      <td>0.777778</td>\n",
       "      <td>18</td>\n",
       "      <td>14.0</td>\n",
       "    </tr>\n",
       "    <tr>\n",
       "      <td>7544723</td>\n",
       "      <td>115</td>\n",
       "      <td>1</td>\n",
       "      <td>115-7927</td>\n",
       "      <td>468511</td>\n",
       "      <td>437272.0</td>\n",
       "      <td>0.789474</td>\n",
       "      <td>19</td>\n",
       "      <td>15.0</td>\n",
       "    </tr>\n",
       "  </tbody>\n",
       "</table>\n",
       "</div>"
      ],
      "text/plain": [
       "         user_id  answered_correctly       key  timestamp  p_timestamp  \\\n",
       "7544707      115                   1  115-5692          0          NaN   \n",
       "7544709      115                   1  115-5716      56943          0.0   \n",
       "7544686      115                   1   115-128     118363      56943.0   \n",
       "7544712      115                   1  115-7860     131167     118363.0   \n",
       "7544721      115                   1  115-7922     137965     131167.0   \n",
       "7544689      115                   1   115-156     157063     137965.0   \n",
       "7544705      115                   1    115-51     176092     157063.0   \n",
       "7544704      115                   1    115-50     194190     176092.0   \n",
       "7544716      115                   1  115-7896     212463     194190.0   \n",
       "7544713      115                   1  115-7863     230983     212463.0   \n",
       "7544688      115                   0   115-152     255381     230983.0   \n",
       "7544683      115                   0   115-104     280033     255381.0   \n",
       "7544684      115                   0   115-108     302994     280033.0   \n",
       "7544719      115                   1  115-7900     328686     302994.0   \n",
       "7544720      115                   1  115-7901     352686     328686.0   \n",
       "7544726      115                   1  115-7971     376162     352686.0   \n",
       "7544698      115                   1    115-25     398020     376162.0   \n",
       "7544693      115                   0   115-183     418008     398020.0   \n",
       "7544722      115                   1  115-7926     437272     418008.0   \n",
       "7544723      115                   1  115-7927     468511     437272.0   \n",
       "\n",
       "         user_answered_correctly_mean_real  user_answered_correctly_count  \\\n",
       "7544707                           0.000000                              0   \n",
       "7544709                           1.000000                              1   \n",
       "7544686                           1.000000                              2   \n",
       "7544712                           1.000000                              3   \n",
       "7544721                           1.000000                              4   \n",
       "7544689                           1.000000                              5   \n",
       "7544705                           1.000000                              6   \n",
       "7544704                           1.000000                              7   \n",
       "7544716                           1.000000                              8   \n",
       "7544713                           1.000000                              9   \n",
       "7544688                           1.000000                             10   \n",
       "7544683                           0.909091                             11   \n",
       "7544684                           0.833333                             12   \n",
       "7544719                           0.769231                             13   \n",
       "7544720                           0.785714                             14   \n",
       "7544726                           0.800000                             15   \n",
       "7544698                           0.812500                             16   \n",
       "7544693                           0.823529                             17   \n",
       "7544722                           0.777778                             18   \n",
       "7544723                           0.789474                             19   \n",
       "\n",
       "         answered_correctly_user  \n",
       "7544707                      NaN  \n",
       "7544709                      1.0  \n",
       "7544686                      2.0  \n",
       "7544712                      3.0  \n",
       "7544721                      4.0  \n",
       "7544689                      5.0  \n",
       "7544705                      6.0  \n",
       "7544704                      7.0  \n",
       "7544716                      8.0  \n",
       "7544713                      9.0  \n",
       "7544688                     10.0  \n",
       "7544683                     10.0  \n",
       "7544684                     10.0  \n",
       "7544719                     10.0  \n",
       "7544720                     11.0  \n",
       "7544726                     12.0  \n",
       "7544698                     13.0  \n",
       "7544693                     14.0  \n",
       "7544722                     14.0  \n",
       "7544723                     15.0  "
      ]
     },
     "execution_count": 18,
     "metadata": {},
     "output_type": "execute_result"
    }
   ],
   "source": [
    "lagtime_stats.head(20)"
   ]
  },
  {
   "cell_type": "code",
   "execution_count": 19,
   "metadata": {},
   "outputs": [
    {
     "data": {
      "text/html": [
       "<div>\n",
       "<style scoped>\n",
       "    .dataframe tbody tr th:only-of-type {\n",
       "        vertical-align: middle;\n",
       "    }\n",
       "\n",
       "    .dataframe tbody tr th {\n",
       "        vertical-align: top;\n",
       "    }\n",
       "\n",
       "    .dataframe thead th {\n",
       "        text-align: right;\n",
       "    }\n",
       "</style>\n",
       "<table border=\"1\" class=\"dataframe\">\n",
       "  <thead>\n",
       "    <tr style=\"text-align: right;\">\n",
       "      <th></th>\n",
       "      <th>user_id</th>\n",
       "      <th>answered_correctly</th>\n",
       "      <th>key</th>\n",
       "      <th>timestamp</th>\n",
       "      <th>p_timestamp</th>\n",
       "      <th>user_answered_correctly_mean_real</th>\n",
       "      <th>user_answered_correctly_count</th>\n",
       "      <th>answered_correctly_user</th>\n",
       "    </tr>\n",
       "  </thead>\n",
       "  <tbody>\n",
       "    <tr>\n",
       "      <td>25609125</td>\n",
       "      <td>1509564249</td>\n",
       "      <td>0</td>\n",
       "      <td>1509564249-4463</td>\n",
       "      <td>0</td>\n",
       "      <td>NaN</td>\n",
       "      <td>0.000000</td>\n",
       "      <td>0</td>\n",
       "      <td>NaN</td>\n",
       "    </tr>\n",
       "    <tr>\n",
       "      <td>25615849</td>\n",
       "      <td>1509564249</td>\n",
       "      <td>0</td>\n",
       "      <td>1509564249-930</td>\n",
       "      <td>19079</td>\n",
       "      <td>0.000000e+00</td>\n",
       "      <td>0.000000</td>\n",
       "      <td>1</td>\n",
       "      <td>0.0</td>\n",
       "    </tr>\n",
       "    <tr>\n",
       "      <td>25612238</td>\n",
       "      <td>1509564249</td>\n",
       "      <td>1</td>\n",
       "      <td>1509564249-5880</td>\n",
       "      <td>45960</td>\n",
       "      <td>1.907900e+04</td>\n",
       "      <td>0.000000</td>\n",
       "      <td>2</td>\n",
       "      <td>0.0</td>\n",
       "    </tr>\n",
       "    <tr>\n",
       "      <td>25609552</td>\n",
       "      <td>1509564249</td>\n",
       "      <td>0</td>\n",
       "      <td>1509564249-4624</td>\n",
       "      <td>59209</td>\n",
       "      <td>4.596000e+04</td>\n",
       "      <td>0.333333</td>\n",
       "      <td>3</td>\n",
       "      <td>1.0</td>\n",
       "    </tr>\n",
       "    <tr>\n",
       "      <td>25609651</td>\n",
       "      <td>1509564249</td>\n",
       "      <td>0</td>\n",
       "      <td>1509564249-4710</td>\n",
       "      <td>83069</td>\n",
       "      <td>5.920900e+04</td>\n",
       "      <td>0.250000</td>\n",
       "      <td>4</td>\n",
       "      <td>1.0</td>\n",
       "    </tr>\n",
       "    <tr>\n",
       "      <td>...</td>\n",
       "      <td>...</td>\n",
       "      <td>...</td>\n",
       "      <td>...</td>\n",
       "      <td>...</td>\n",
       "      <td>...</td>\n",
       "      <td>...</td>\n",
       "      <td>...</td>\n",
       "      <td>...</td>\n",
       "    </tr>\n",
       "    <tr>\n",
       "      <td>25615635</td>\n",
       "      <td>1509564249</td>\n",
       "      <td>0</td>\n",
       "      <td>1509564249-9142</td>\n",
       "      <td>2974732924</td>\n",
       "      <td>2.974722e+09</td>\n",
       "      <td>0.220850</td>\n",
       "      <td>10283</td>\n",
       "      <td>2271.0</td>\n",
       "    </tr>\n",
       "    <tr>\n",
       "      <td>25613181</td>\n",
       "      <td>1509564249</td>\n",
       "      <td>0</td>\n",
       "      <td>1509564249-6281</td>\n",
       "      <td>2974744301</td>\n",
       "      <td>2.974733e+09</td>\n",
       "      <td>0.220828</td>\n",
       "      <td>10284</td>\n",
       "      <td>2271.0</td>\n",
       "    </tr>\n",
       "    <tr>\n",
       "      <td>25610561</td>\n",
       "      <td>1509564249</td>\n",
       "      <td>0</td>\n",
       "      <td>1509564249-5183</td>\n",
       "      <td>2974755454</td>\n",
       "      <td>2.974744e+09</td>\n",
       "      <td>0.220807</td>\n",
       "      <td>10285</td>\n",
       "      <td>2271.0</td>\n",
       "    </tr>\n",
       "    <tr>\n",
       "      <td>25607479</td>\n",
       "      <td>1509564249</td>\n",
       "      <td>0</td>\n",
       "      <td>1509564249-3857</td>\n",
       "      <td>2974766793</td>\n",
       "      <td>2.974755e+09</td>\n",
       "      <td>0.220786</td>\n",
       "      <td>10286</td>\n",
       "      <td>2271.0</td>\n",
       "    </tr>\n",
       "    <tr>\n",
       "      <td>25608808</td>\n",
       "      <td>1509564249</td>\n",
       "      <td>0</td>\n",
       "      <td>1509564249-4406</td>\n",
       "      <td>2974778051</td>\n",
       "      <td>2.974767e+09</td>\n",
       "      <td>0.220764</td>\n",
       "      <td>10287</td>\n",
       "      <td>2271.0</td>\n",
       "    </tr>\n",
       "  </tbody>\n",
       "</table>\n",
       "<p>10288 rows × 8 columns</p>\n",
       "</div>"
      ],
      "text/plain": [
       "             user_id  answered_correctly              key   timestamp  \\\n",
       "25609125  1509564249                   0  1509564249-4463           0   \n",
       "25615849  1509564249                   0   1509564249-930       19079   \n",
       "25612238  1509564249                   1  1509564249-5880       45960   \n",
       "25609552  1509564249                   0  1509564249-4624       59209   \n",
       "25609651  1509564249                   0  1509564249-4710       83069   \n",
       "...              ...                 ...              ...         ...   \n",
       "25615635  1509564249                   0  1509564249-9142  2974732924   \n",
       "25613181  1509564249                   0  1509564249-6281  2974744301   \n",
       "25610561  1509564249                   0  1509564249-5183  2974755454   \n",
       "25607479  1509564249                   0  1509564249-3857  2974766793   \n",
       "25608808  1509564249                   0  1509564249-4406  2974778051   \n",
       "\n",
       "           p_timestamp  user_answered_correctly_mean_real  \\\n",
       "25609125           NaN                           0.000000   \n",
       "25615849  0.000000e+00                           0.000000   \n",
       "25612238  1.907900e+04                           0.000000   \n",
       "25609552  4.596000e+04                           0.333333   \n",
       "25609651  5.920900e+04                           0.250000   \n",
       "...                ...                                ...   \n",
       "25615635  2.974722e+09                           0.220850   \n",
       "25613181  2.974733e+09                           0.220828   \n",
       "25610561  2.974744e+09                           0.220807   \n",
       "25607479  2.974755e+09                           0.220786   \n",
       "25608808  2.974767e+09                           0.220764   \n",
       "\n",
       "          user_answered_correctly_count  answered_correctly_user  \n",
       "25609125                              0                      NaN  \n",
       "25615849                              1                      0.0  \n",
       "25612238                              2                      0.0  \n",
       "25609552                              3                      1.0  \n",
       "25609651                              4                      1.0  \n",
       "...                                 ...                      ...  \n",
       "25615635                          10283                   2271.0  \n",
       "25613181                          10284                   2271.0  \n",
       "25610561                          10285                   2271.0  \n",
       "25607479                          10286                   2271.0  \n",
       "25608808                          10287                   2271.0  \n",
       "\n",
       "[10288 rows x 8 columns]"
      ]
     },
     "execution_count": 19,
     "metadata": {},
     "output_type": "execute_result"
    }
   ],
   "source": [
    "#Check one user\n",
    "lagtime_stats[lagtime_stats['user_id'] == 1509564249]\\\n",
    "          .sort_values(by=['timestamp'])"
   ]
  },
  {
   "cell_type": "code",
   "execution_count": 20,
   "metadata": {},
   "outputs": [],
   "source": [
    "lagtime_stats['p_timestamp'].fillna(0, inplace=True)"
   ]
  },
  {
   "cell_type": "code",
   "execution_count": 21,
   "metadata": {},
   "outputs": [],
   "source": [
    "lagtime_stats['answered_correctly_user'].fillna(0, inplace=True)"
   ]
  },
  {
   "cell_type": "code",
   "execution_count": 22,
   "metadata": {},
   "outputs": [],
   "source": [
    "lagtime_stats['lagtime'] = lagtime_stats['timestamp'] - lagtime_stats['p_timestamp']"
   ]
  },
  {
   "cell_type": "code",
   "execution_count": 23,
   "metadata": {},
   "outputs": [],
   "source": [
    "lagtime_stats.drop(['p_timestamp', 'answered_correctly'], axis=1, inplace=True)"
   ]
  },
  {
   "cell_type": "code",
   "execution_count": 24,
   "metadata": {},
   "outputs": [],
   "source": [
    "lagtime_stats['lagtime'].fillna(0, inplace=True)"
   ]
  },
  {
   "cell_type": "code",
   "execution_count": 25,
   "metadata": {},
   "outputs": [
    {
     "data": {
      "text/html": [
       "<div>\n",
       "<style scoped>\n",
       "    .dataframe tbody tr th:only-of-type {\n",
       "        vertical-align: middle;\n",
       "    }\n",
       "\n",
       "    .dataframe tbody tr th {\n",
       "        vertical-align: top;\n",
       "    }\n",
       "\n",
       "    .dataframe thead th {\n",
       "        text-align: right;\n",
       "    }\n",
       "</style>\n",
       "<table border=\"1\" class=\"dataframe\">\n",
       "  <thead>\n",
       "    <tr style=\"text-align: right;\">\n",
       "      <th></th>\n",
       "      <th>user_id</th>\n",
       "      <th>answered_correctly</th>\n",
       "      <th>key</th>\n",
       "      <th>timestamp</th>\n",
       "      <th>user_answered_correctly_mean_real</th>\n",
       "      <th>user_answered_correctly_count</th>\n",
       "      <th>answered_correctly_user</th>\n",
       "      <th>lagtime</th>\n",
       "    </tr>\n",
       "  </thead>\n",
       "  <tbody>\n",
       "    <tr>\n",
       "      <td>7544707</td>\n",
       "      <td>115</td>\n",
       "      <td>1</td>\n",
       "      <td>115-5692</td>\n",
       "      <td>0</td>\n",
       "      <td>0.000000</td>\n",
       "      <td>0</td>\n",
       "      <td>0.0</td>\n",
       "      <td>0.0</td>\n",
       "    </tr>\n",
       "    <tr>\n",
       "      <td>7544709</td>\n",
       "      <td>115</td>\n",
       "      <td>1</td>\n",
       "      <td>115-5716</td>\n",
       "      <td>56943</td>\n",
       "      <td>1.000000</td>\n",
       "      <td>1</td>\n",
       "      <td>1.0</td>\n",
       "      <td>56943.0</td>\n",
       "    </tr>\n",
       "    <tr>\n",
       "      <td>7544686</td>\n",
       "      <td>115</td>\n",
       "      <td>1</td>\n",
       "      <td>115-128</td>\n",
       "      <td>118363</td>\n",
       "      <td>1.000000</td>\n",
       "      <td>2</td>\n",
       "      <td>2.0</td>\n",
       "      <td>61420.0</td>\n",
       "    </tr>\n",
       "    <tr>\n",
       "      <td>7544712</td>\n",
       "      <td>115</td>\n",
       "      <td>1</td>\n",
       "      <td>115-7860</td>\n",
       "      <td>131167</td>\n",
       "      <td>1.000000</td>\n",
       "      <td>3</td>\n",
       "      <td>3.0</td>\n",
       "      <td>12804.0</td>\n",
       "    </tr>\n",
       "    <tr>\n",
       "      <td>7544721</td>\n",
       "      <td>115</td>\n",
       "      <td>1</td>\n",
       "      <td>115-7922</td>\n",
       "      <td>137965</td>\n",
       "      <td>1.000000</td>\n",
       "      <td>4</td>\n",
       "      <td>4.0</td>\n",
       "      <td>6798.0</td>\n",
       "    </tr>\n",
       "    <tr>\n",
       "      <td>7544689</td>\n",
       "      <td>115</td>\n",
       "      <td>1</td>\n",
       "      <td>115-156</td>\n",
       "      <td>157063</td>\n",
       "      <td>1.000000</td>\n",
       "      <td>5</td>\n",
       "      <td>5.0</td>\n",
       "      <td>19098.0</td>\n",
       "    </tr>\n",
       "    <tr>\n",
       "      <td>7544705</td>\n",
       "      <td>115</td>\n",
       "      <td>1</td>\n",
       "      <td>115-51</td>\n",
       "      <td>176092</td>\n",
       "      <td>1.000000</td>\n",
       "      <td>6</td>\n",
       "      <td>6.0</td>\n",
       "      <td>19029.0</td>\n",
       "    </tr>\n",
       "    <tr>\n",
       "      <td>7544704</td>\n",
       "      <td>115</td>\n",
       "      <td>1</td>\n",
       "      <td>115-50</td>\n",
       "      <td>194190</td>\n",
       "      <td>1.000000</td>\n",
       "      <td>7</td>\n",
       "      <td>7.0</td>\n",
       "      <td>18098.0</td>\n",
       "    </tr>\n",
       "    <tr>\n",
       "      <td>7544716</td>\n",
       "      <td>115</td>\n",
       "      <td>1</td>\n",
       "      <td>115-7896</td>\n",
       "      <td>212463</td>\n",
       "      <td>1.000000</td>\n",
       "      <td>8</td>\n",
       "      <td>8.0</td>\n",
       "      <td>18273.0</td>\n",
       "    </tr>\n",
       "    <tr>\n",
       "      <td>7544713</td>\n",
       "      <td>115</td>\n",
       "      <td>1</td>\n",
       "      <td>115-7863</td>\n",
       "      <td>230983</td>\n",
       "      <td>1.000000</td>\n",
       "      <td>9</td>\n",
       "      <td>9.0</td>\n",
       "      <td>18520.0</td>\n",
       "    </tr>\n",
       "    <tr>\n",
       "      <td>7544688</td>\n",
       "      <td>115</td>\n",
       "      <td>0</td>\n",
       "      <td>115-152</td>\n",
       "      <td>255381</td>\n",
       "      <td>1.000000</td>\n",
       "      <td>10</td>\n",
       "      <td>10.0</td>\n",
       "      <td>24398.0</td>\n",
       "    </tr>\n",
       "    <tr>\n",
       "      <td>7544683</td>\n",
       "      <td>115</td>\n",
       "      <td>0</td>\n",
       "      <td>115-104</td>\n",
       "      <td>280033</td>\n",
       "      <td>0.909091</td>\n",
       "      <td>11</td>\n",
       "      <td>10.0</td>\n",
       "      <td>24652.0</td>\n",
       "    </tr>\n",
       "    <tr>\n",
       "      <td>7544684</td>\n",
       "      <td>115</td>\n",
       "      <td>0</td>\n",
       "      <td>115-108</td>\n",
       "      <td>302994</td>\n",
       "      <td>0.833333</td>\n",
       "      <td>12</td>\n",
       "      <td>10.0</td>\n",
       "      <td>22961.0</td>\n",
       "    </tr>\n",
       "    <tr>\n",
       "      <td>7544719</td>\n",
       "      <td>115</td>\n",
       "      <td>1</td>\n",
       "      <td>115-7900</td>\n",
       "      <td>328686</td>\n",
       "      <td>0.769231</td>\n",
       "      <td>13</td>\n",
       "      <td>10.0</td>\n",
       "      <td>25692.0</td>\n",
       "    </tr>\n",
       "    <tr>\n",
       "      <td>7544720</td>\n",
       "      <td>115</td>\n",
       "      <td>1</td>\n",
       "      <td>115-7901</td>\n",
       "      <td>352686</td>\n",
       "      <td>0.785714</td>\n",
       "      <td>14</td>\n",
       "      <td>11.0</td>\n",
       "      <td>24000.0</td>\n",
       "    </tr>\n",
       "    <tr>\n",
       "      <td>7544726</td>\n",
       "      <td>115</td>\n",
       "      <td>1</td>\n",
       "      <td>115-7971</td>\n",
       "      <td>376162</td>\n",
       "      <td>0.800000</td>\n",
       "      <td>15</td>\n",
       "      <td>12.0</td>\n",
       "      <td>23476.0</td>\n",
       "    </tr>\n",
       "    <tr>\n",
       "      <td>7544698</td>\n",
       "      <td>115</td>\n",
       "      <td>1</td>\n",
       "      <td>115-25</td>\n",
       "      <td>398020</td>\n",
       "      <td>0.812500</td>\n",
       "      <td>16</td>\n",
       "      <td>13.0</td>\n",
       "      <td>21858.0</td>\n",
       "    </tr>\n",
       "    <tr>\n",
       "      <td>7544693</td>\n",
       "      <td>115</td>\n",
       "      <td>0</td>\n",
       "      <td>115-183</td>\n",
       "      <td>418008</td>\n",
       "      <td>0.823529</td>\n",
       "      <td>17</td>\n",
       "      <td>14.0</td>\n",
       "      <td>19988.0</td>\n",
       "    </tr>\n",
       "    <tr>\n",
       "      <td>7544722</td>\n",
       "      <td>115</td>\n",
       "      <td>1</td>\n",
       "      <td>115-7926</td>\n",
       "      <td>437272</td>\n",
       "      <td>0.777778</td>\n",
       "      <td>18</td>\n",
       "      <td>14.0</td>\n",
       "      <td>19264.0</td>\n",
       "    </tr>\n",
       "    <tr>\n",
       "      <td>7544723</td>\n",
       "      <td>115</td>\n",
       "      <td>1</td>\n",
       "      <td>115-7927</td>\n",
       "      <td>468511</td>\n",
       "      <td>0.789474</td>\n",
       "      <td>19</td>\n",
       "      <td>15.0</td>\n",
       "      <td>31239.0</td>\n",
       "    </tr>\n",
       "  </tbody>\n",
       "</table>\n",
       "</div>"
      ],
      "text/plain": [
       "         user_id  answered_correctly       key  timestamp  \\\n",
       "7544707      115                   1  115-5692          0   \n",
       "7544709      115                   1  115-5716      56943   \n",
       "7544686      115                   1   115-128     118363   \n",
       "7544712      115                   1  115-7860     131167   \n",
       "7544721      115                   1  115-7922     137965   \n",
       "7544689      115                   1   115-156     157063   \n",
       "7544705      115                   1    115-51     176092   \n",
       "7544704      115                   1    115-50     194190   \n",
       "7544716      115                   1  115-7896     212463   \n",
       "7544713      115                   1  115-7863     230983   \n",
       "7544688      115                   0   115-152     255381   \n",
       "7544683      115                   0   115-104     280033   \n",
       "7544684      115                   0   115-108     302994   \n",
       "7544719      115                   1  115-7900     328686   \n",
       "7544720      115                   1  115-7901     352686   \n",
       "7544726      115                   1  115-7971     376162   \n",
       "7544698      115                   1    115-25     398020   \n",
       "7544693      115                   0   115-183     418008   \n",
       "7544722      115                   1  115-7926     437272   \n",
       "7544723      115                   1  115-7927     468511   \n",
       "\n",
       "         user_answered_correctly_mean_real  user_answered_correctly_count  \\\n",
       "7544707                           0.000000                              0   \n",
       "7544709                           1.000000                              1   \n",
       "7544686                           1.000000                              2   \n",
       "7544712                           1.000000                              3   \n",
       "7544721                           1.000000                              4   \n",
       "7544689                           1.000000                              5   \n",
       "7544705                           1.000000                              6   \n",
       "7544704                           1.000000                              7   \n",
       "7544716                           1.000000                              8   \n",
       "7544713                           1.000000                              9   \n",
       "7544688                           1.000000                             10   \n",
       "7544683                           0.909091                             11   \n",
       "7544684                           0.833333                             12   \n",
       "7544719                           0.769231                             13   \n",
       "7544720                           0.785714                             14   \n",
       "7544726                           0.800000                             15   \n",
       "7544698                           0.812500                             16   \n",
       "7544693                           0.823529                             17   \n",
       "7544722                           0.777778                             18   \n",
       "7544723                           0.789474                             19   \n",
       "\n",
       "         answered_correctly_user  lagtime  \n",
       "7544707                      0.0      0.0  \n",
       "7544709                      1.0  56943.0  \n",
       "7544686                      2.0  61420.0  \n",
       "7544712                      3.0  12804.0  \n",
       "7544721                      4.0   6798.0  \n",
       "7544689                      5.0  19098.0  \n",
       "7544705                      6.0  19029.0  \n",
       "7544704                      7.0  18098.0  \n",
       "7544716                      8.0  18273.0  \n",
       "7544713                      9.0  18520.0  \n",
       "7544688                     10.0  24398.0  \n",
       "7544683                     10.0  24652.0  \n",
       "7544684                     10.0  22961.0  \n",
       "7544719                     10.0  25692.0  \n",
       "7544720                     11.0  24000.0  \n",
       "7544726                     12.0  23476.0  \n",
       "7544698                     13.0  21858.0  \n",
       "7544693                     14.0  19988.0  \n",
       "7544722                     14.0  19264.0  \n",
       "7544723                     15.0  31239.0  "
      ]
     },
     "execution_count": 25,
     "metadata": {},
     "output_type": "execute_result"
    }
   ],
   "source": [
    "lagtime_stats.head(20)"
   ]
  },
  {
   "cell_type": "code",
   "execution_count": 26,
   "metadata": {},
   "outputs": [
    {
     "data": {
      "text/plain": [
       "user_id                                int64\n",
       "answered_correctly                     int64\n",
       "key                                   object\n",
       "timestamp                              int64\n",
       "user_answered_correctly_mean_real    float64\n",
       "user_answered_correctly_count          int64\n",
       "answered_correctly_user              float64\n",
       "lagtime                              float64\n",
       "dtype: object"
      ]
     },
     "execution_count": 26,
     "metadata": {},
     "output_type": "execute_result"
    }
   ],
   "source": [
    "lagtime_stats.dtypes"
   ]
  },
  {
   "cell_type": "code",
   "execution_count": 27,
   "metadata": {},
   "outputs": [],
   "source": [
    "lagtime_stats.lagtime = lagtime_stats.lagtime.astype('int64')\n",
    "#lagtime_stats.p_timestamp = lagtime_stats.p_timestamp.astype('int64')\n",
    "lagtime_stats.answered_correctly_user = lagtime_stats.answered_correctly_user.astype('int64')"
   ]
  },
  {
   "cell_type": "code",
   "execution_count": null,
   "metadata": {},
   "outputs": [],
   "source": [
    "%%time\n",
    "#Reorder data before extracting np arays\n",
    "lagtime_stats = lagtime_stats.sort_values(by=['key', 'timestamp'])"
   ]
  },
  {
   "cell_type": "code",
   "execution_count": null,
   "metadata": {},
   "outputs": [],
   "source": [
    "pd.set_option('display.max_rows', None)\n",
    "lagtime_stats[lagtime_stats['user_id'] == 1000535709].sort_values(by=['timestamp'])"
   ]
  },
  {
   "cell_type": "code",
   "execution_count": null,
   "metadata": {},
   "outputs": [],
   "source": [
    "%%time\n",
    "#SAVE DATA\n",
    "#Convert pandas columns to array  \n",
    "lagtime = np.array(lagtime_stats['lagtime'].tolist())\n",
    "user_answered_correctly_mean_real = np.array(lagtime_stats['user_answered_correctly_mean_real'].tolist())\n",
    "#p_timestamp = np.array(lagtime_stats['p_timestamp'].tolist())\n",
    "answered_correctly_user = np.array(lagtime_stats['answered_correctly_user'].tolist())\n",
    "user_answered_correctly_count = np.array(lagtime_stats['user_answered_correctly_count'].tolist())\n",
    "del lagtime_stats\n",
    "gc.collect()"
   ]
  },
  {
   "cell_type": "code",
   "execution_count": null,
   "metadata": {},
   "outputs": [],
   "source": [
    "%%time\n",
    "np.savez_compressed('/Users/nlisch/downloads/Kaggle_riid/process/lagtime_stats_final.npz',\n",
    "                    lagtime = lagtime,\n",
    "                    #p_timestamp = p_timestamp,\n",
    "                    user_answered_correctly_mean_real = user_answered_correctly_mean_real,\n",
    "                    answered_correctly_user = answered_correctly_user, \n",
    "                    user_answered_correctly_count = user_answered_correctly_count\n",
    "                   )\n",
    "del lagtime\n",
    "gc.collect()"
   ]
  },
  {
   "cell_type": "markdown",
   "metadata": {},
   "source": [
    "# Look at question for timestamp 0"
   ]
  },
  {
   "cell_type": "code",
   "execution_count": null,
   "metadata": {},
   "outputs": [],
   "source": [
    "%%time\n",
    "file_path = '/Users/nlisch/downloads/Kaggle_riid/process/data_clean.npz'\n",
    "columns = [ 'user_id', 'content_id', 'question_answered', 'answered_correctly', 'timestamp' ]\n",
    "data = load_data_np(file_path, columns, 'full_dataset')"
   ]
  },
  {
   "cell_type": "code",
   "execution_count": null,
   "metadata": {},
   "outputs": [],
   "source": [
    "first = data[data['timestamp'] == 0]"
   ]
  },
  {
   "cell_type": "code",
   "execution_count": null,
   "metadata": {},
   "outputs": [],
   "source": [
    "pd.set_option('display.max_rows', None)\n",
    "first.groupby(['content_id']).agg({'question_answered': 'count', 'answered_correctly':'mean' }).reset_index().sort_values(by='question_answered', ascending=False)"
   ]
  },
  {
   "cell_type": "markdown",
   "metadata": {},
   "source": [
    "## nb questions progress "
   ]
  },
  {
   "cell_type": "code",
   "execution_count": null,
   "metadata": {},
   "outputs": [],
   "source": [
    "%%time\n",
    "file_path = '/Users/nlisch/downloads/Kaggle_riid/process/data_clean.npz'\n",
    "columns = [ 'user_id','part', 'content_id', 'question_answered', 'answered_correctly', 'key', 'timestamp' ]\n",
    "data = load_data_np(file_path, columns, 'full_dataset')"
   ]
  },
  {
   "cell_type": "code",
   "execution_count": null,
   "metadata": {},
   "outputs": [],
   "source": [
    "%%time\n",
    "data['question_answered_progress'] = data.sort_values(by=['user_id', 'part', 'timestamp'], ascending=True)\\\n",
    "                       .groupby(['user_id'])['question_answered']\\\n",
    "                       .cumsum()"
   ]
  },
  {
   "cell_type": "code",
   "execution_count": null,
   "metadata": {},
   "outputs": [],
   "source": [
    "data.head(10)"
   ]
  },
  {
   "cell_type": "code",
   "execution_count": null,
   "metadata": {},
   "outputs": [],
   "source": [
    "%%time\n",
    "data.loc[data.part == 1, 'question_answered_progress_bin_part_1' ] = data['question_answered_progress']\n",
    "data.loc[data.part == 2, 'question_answered_progress_bin_part_2' ] = data['question_answered_progress']\n",
    "data.loc[data.part == 3, 'question_answered_progress_bin_part_3' ] = data['question_answered_progress']\n",
    "data.loc[data.part == 4, 'question_answered_progress_bin_part_4' ] = data['question_answered_progress']\n",
    "data.loc[data.part == 5, 'question_answered_progress_bin_part_5' ] = data['question_answered_progress']\n",
    "data.loc[data.part == 6, 'question_answered_progress_bin_part_6' ] = data['question_answered_progress']\n",
    "data.loc[data.part == 7, 'question_answered_progress_bin_part_7' ] = data['question_answered_progress']"
   ]
  },
  {
   "cell_type": "code",
   "execution_count": null,
   "metadata": {},
   "outputs": [],
   "source": [
    "data.head(10)"
   ]
  },
  {
   "cell_type": "code",
   "execution_count": null,
   "metadata": {},
   "outputs": [],
   "source": [
    "%%time\n",
    "data['question_answered_progress_bin_part_1'] = pd.qcut(data['question_answered_progress_bin_part_1'], q=10, labels=[10, 20, 30, 40, 50, 60, 70, 80, 90, 100])\n",
    "data['question_answered_progress_bin_part_2'] = pd.qcut(data['question_answered_progress_bin_part_2'], q=10, labels=[10, 20, 30, 40, 50, 60, 70, 80, 90, 100])\n",
    "data['question_answered_progress_bin_part_3'] = pd.qcut(data['question_answered_progress_bin_part_3'], q=10, labels=[10, 20, 30, 40, 50, 60, 70, 80, 90, 100])\n",
    "data['question_answered_progress_bin_part_4'] = pd.qcut(data['question_answered_progress_bin_part_4'], q=10, labels=[10, 20, 30, 40, 50, 60, 70, 80, 90, 100])\n",
    "data['question_answered_progress_bin_part_5'] = pd.qcut(data['question_answered_progress_bin_part_5'], q=10, labels=[10, 20, 30, 40, 50, 60, 70, 80, 90, 100])\n",
    "data['question_answered_progress_bin_part_6'] = pd.qcut(data['question_answered_progress_bin_part_6'], q=10, labels=[10, 20, 30, 40, 50, 60, 70, 80, 90, 100])\n",
    "data['question_answered_progress_bin_part_7'] = pd.qcut(data['question_answered_progress_bin_part_7'], q=10, labels=[10, 20, 30, 40, 50, 60, 70, 80, 90, 100])"
   ]
  },
  {
   "cell_type": "code",
   "execution_count": null,
   "metadata": {},
   "outputs": [],
   "source": [
    "%%time\n",
    "#24min 6s\n",
    "data.loc[data.part == 1, 'question_answered_progress_bin' ] = data['question_answered_progress_bin_part_1']\n",
    "data.loc[data.part == 2, 'question_answered_progress_bin' ] = data['question_answered_progress_bin_part_2']\n",
    "data.loc[data.part == 3, 'question_answered_progress_bin' ] = data['question_answered_progress_bin_part_3']\n",
    "data.loc[data.part == 4, 'question_answered_progress_bin' ] = data['question_answered_progress_bin_part_4']\n",
    "data.loc[data.part == 5, 'question_answered_progress_bin' ] = data['question_answered_progress_bin_part_5']\n",
    "data.loc[data.part == 6, 'question_answered_progress_bin' ] = data['question_answered_progress_bin_part_6']\n",
    "data.loc[data.part == 7, 'question_answered_progress_bin' ] = data['question_answered_progress_bin_part_7']"
   ]
  },
  {
   "cell_type": "code",
   "execution_count": null,
   "metadata": {},
   "outputs": [],
   "source": [
    "data.head(10)"
   ]
  },
  {
   "cell_type": "code",
   "execution_count": null,
   "metadata": {},
   "outputs": [],
   "source": [
    "%%time\n",
    "question_answered_progress_stats = data.groupby(['part', 'question_answered_progress_bin']).agg({'answered_correctly': ['count','skew', 'mean', 'std'] }).reset_index()\n"
   ]
  },
  {
   "cell_type": "code",
   "execution_count": null,
   "metadata": {},
   "outputs": [],
   "source": [
    "%%time\n",
    "question_answered_progress_stats.columns=question_answered_progress_stats.columns.map('_'.join)\n",
    "question_answered_progress_stats.rename(columns = {\n",
    " 'question_answered_progress_bin_':'question_answered_progress_bin',\n",
    " 'question_answered_progress_':'question_answered_progress',\n",
    " 'part_':'part'}, inplace = True)"
   ]
  },
  {
   "cell_type": "code",
   "execution_count": null,
   "metadata": {},
   "outputs": [],
   "source": [
    "def merge__by_chunks_pandas(data, data2, key, chunksize):\n",
    "    start = time.time()\n",
    "    frames = {}\n",
    "    chunk_size =  chunksize\n",
    "    size_final_file = data.shape[0]\n",
    "    cols = data.shape[1]\n",
    "    nb_iterations = math.ceil((data.shape[0]/chunk_size))\n",
    "    subset_start = 0\n",
    "    print('Start iteractions over {} chunks to convert {:,} rows of data with {} columns'.format(nb_iterations, size_final_file, cols))\n",
    "    print('Each chunk will process {:,} / {:,}'.format(chunksize, data.shape[0]))\n",
    "    for i in tqdm(range(0,nb_iterations), position=0, leave=True):\n",
    "        subset_end = subset_start + chunk_size\n",
    "        print('subset_start : {}'.format(subset_start))\n",
    "        print('subset_end : {}'.format(subset_end))\n",
    "        print('Total Rows : {}'.format(data.shape[0]))\n",
    "        if data.shape[0]<subset_end:\n",
    "            subset_end = data.shape[0]\n",
    "            print('subset end updated to remaining rows')\n",
    "        if subset_end <= (data.shape[0]) :\n",
    "            #data.set_index(key, inplace=True, drop=False)\n",
    "            #data2.set_index(key, inplace=True, drop=False)\n",
    "            subset = data[subset_start:subset_end]\n",
    "            print('chunk #{} size : {:,} rows'.format(str(i + 1), subset.shape[0]))\n",
    "            subset = subset.merge(data2, how = 'left', on=key)\n",
    "            subset['chunk'] = i\n",
    "            frames[i] = subset\n",
    "            print ('data load for chunk {}'.format(i + 1))\n",
    "            subset_start =  subset_end\n",
    "            step = time.time()\n",
    "            print( \"Time to process data load for chunk {} :  \\n {:.2f} min\".format( i + 1, (step - start) / 60))\n",
    "    print( \"Starting Aggregate pandas dataframes\")\n",
    "    if len(frames) > 1:\n",
    "        # Concat all new dataframes\n",
    "        final = pd.concat(frames.values(), ignore_index=True)\n",
    "    else:\n",
    "        final = frames.values()\n",
    "    print (\"Finished\")\n",
    "    return final"
   ]
  },
  {
   "cell_type": "code",
   "execution_count": null,
   "metadata": {},
   "outputs": [],
   "source": [
    "%%time\n",
    "data = merge__by_chunks_pandas(data = data,\n",
    "                               data2 = question_answered_progress_stats,\n",
    "                               key = 'question_answered_progress_bin',\n",
    "                               chunksize = 500000)\n",
    "#del question_answered_progress_stats\n",
    "#gc.collect()"
   ]
  },
  {
   "cell_type": "code",
   "execution_count": null,
   "metadata": {},
   "outputs": [],
   "source": [
    "data.head(10)"
   ]
  },
  {
   "cell_type": "code",
   "execution_count": null,
   "metadata": {},
   "outputs": [],
   "source": [
    "%%time\n",
    "#Reorder data before extracting np arays\n",
    "data = data.sort_values(by=['key', 'timestamp'])"
   ]
  },
  {
   "cell_type": "code",
   "execution_count": null,
   "metadata": {},
   "outputs": [],
   "source": [
    "%%time\n",
    "#SAVE DATA\n",
    "#Convert pandas columns to array  \n",
    "question_answered_progress = np.array(data['question_answered_progress'].tolist())\n",
    "answered_correctly_mean = np.array(data['answered_correctly_mean'].tolist())\n",
    "del data\n",
    "gc.collect()"
   ]
  },
  {
   "cell_type": "code",
   "execution_count": null,
   "metadata": {},
   "outputs": [],
   "source": [
    "%%time\n",
    "np.savez_compressed('/Users/nlisch/downloads/Kaggle_riid/process/question_answered_progress.npz',\n",
    "                    question_answered_progress = question_answered_progress,\n",
    "                    answered_correctly_mean = answered_correctly_mean\n",
    "                   )\n",
    "del question_answered_progress\n",
    "del answered_correctly_mean\n",
    "gc.collect()"
   ]
  },
  {
   "cell_type": "markdown",
   "metadata": {},
   "source": [
    "# Final DATA"
   ]
  },
  {
   "cell_type": "code",
   "execution_count": null,
   "metadata": {},
   "outputs": [],
   "source": [
    "%%time\n",
    "data = np.load('/Users/nlisch/downloads/Kaggle_riid/process/data_clean.npz' , allow_pickle=True)\n",
    "previous_answer_questions_stats_final = np.load('/Users/nlisch/downloads/Kaggle_riid/process/previous_answer_questions_stats_final.npz' , allow_pickle=True)\n",
    "content_stats = np.load('/Users/nlisch/downloads/Kaggle_riid/process/content_stats_final.npz' , allow_pickle=True)\n",
    "users_stats = np.load('/Users/nlisch/downloads/Kaggle_riid/process/users_stats_final.npz' , allow_pickle=True)\n",
    "answer_prob_final = np.load('/Users/nlisch/downloads/Kaggle_riid/process/answer_prob_final.npz' , allow_pickle=True)\n",
    "correct_answer_stats = np.load('/Users/nlisch/downloads/Kaggle_riid/process/correct_answer_stats_final.npz' , allow_pickle=True)\n",
    "answer_stats_final = np.load('/Users/nlisch/downloads/Kaggle_riid/process/answer_stats_final.npz' , allow_pickle=True)\n",
    "answer_content_stats_final = np.load('/Users/nlisch/downloads/Kaggle_riid/process/answer_content_stats_final.npz' , allow_pickle=True)\n",
    "question_answered_progress = np.load('/Users/nlisch/downloads/Kaggle_riid/process/question_answered_progress.npz' , allow_pickle=True)\n",
    "data_on_the_fly = np.load('/Users/nlisch/downloads/Kaggle_riid/process/prediction/questions_columns/questions_final_dummies_part1.npz' , allow_pickle=True)\n",
    "data_on_the_fly2 = np.load('/Users/nlisch/downloads/Kaggle_riid/process/prediction/questions_columns/questions_final_dummies_part2.npz' , allow_pickle=True)\n",
    "pca = np.load('/Users/nlisch/downloads/Kaggle_riid/process/prediction/pca_test.npz', allow_pickle=True)\n",
    "bundle_stats = np.load('/Users/nlisch/downloads/Kaggle_riid/process/bundle_stats_final.npz' , allow_pickle=True)\n",
    "lagtime_stats = np.load('/Users/nlisch/downloads/Kaggle_riid/process/lagtime_stats_final.npz' , allow_pickle=True)\n"
   ]
  },
  {
   "cell_type": "code",
   "execution_count": null,
   "metadata": {},
   "outputs": [],
   "source": [
    "%%time\n",
    "file_path = '/Users/nlisch/downloads/Kaggle_riid/process/content_stats_final.npz'\n",
    "columns = ['content_answered_correctly_mean', 'content_answered_correctly_count']\n",
    "staging_1 = load_data_np(file_path, columns, 'full_dataset')\n",
    "file_path = '/Users/nlisch/downloads/Kaggle_riid/process/users_stats_final.npz'\n",
    "columns = ['user_answered_correctly_mean', 'user_answered_correctly_count']\n",
    "staging_2 = load_data_np(file_path, columns, 'full_dataset')\n",
    "file_path = '/Users/nlisch/downloads/Kaggle_riid/process/correct_answer_stats_final.npz'\n",
    "columns = ['correct_answer_correctly_mean']\n",
    "staging_3 = load_data_np(file_path, columns, 'full_dataset')\n",
    "file_path = '/Users/nlisch/downloads/Kaggle_riid/process/answer_stats_final.npz'\n",
    "columns = ['user_answered_correctly_mean']\n",
    "staging_4 = load_data_np(file_path, columns, 'full_dataset')\n",
    "file_path = '/Users/nlisch/downloads/Kaggle_riid/process/answer_content_stats_final.npz'\n",
    "columns = ['content_answered_correctly_mean']\n",
    "staging_5 = load_data_np(file_path, columns, 'full_dataset')\n",
    "file_path = '/Users/nlisch/downloads/Kaggle_riid/process/question_answered_progress.npz'\n",
    "columns = ['answered_correctly_mean']\n",
    "staging_6 = load_data_np(file_path, columns, 'full_dataset')\n",
    "file_path = '/Users/nlisch/downloads/Kaggle_riid/process/lagtime_stats_final.npz'\n",
    "columns = ['user_answered_correctly_mean_real']\n",
    "staging_7 = load_data_np(file_path, columns, 'full_dataset')"
   ]
  },
  {
   "cell_type": "code",
   "execution_count": null,
   "metadata": {},
   "outputs": [],
   "source": [
    "%%time\n",
    "#Add addtionnale features\n",
    "# add harmonic mean\n",
    "staging_1['hmean_user_content_accuracy'] = 2 * (\n",
    "    (staging_2['user_answered_correctly_mean'] * staging_1['content_answered_correctly_mean']) /\n",
    "    (staging_2['user_answered_correctly_mean'] + staging_1['content_answered_correctly_mean'])\n",
    ")\n",
    "\n",
    "staging_1['hmean_user_answered_correctly_mean_real'] = 2 * (\n",
    "    (staging_7['user_answered_correctly_mean_real'] * staging_5['content_answered_correctly_mean']) /\n",
    "    (staging_7['user_answered_correctly_mean_real'] + staging_5['content_answered_correctly_mean'])\n",
    ")\n",
    "\n",
    "\n",
    "staging_1['hmean_answer_content_accuracy'] = 2 * (\n",
    "    (staging_4['user_answered_correctly_mean'] * staging_5['content_answered_correctly_mean']) /\n",
    "    (staging_4['user_answered_correctly_mean'] + staging_5['content_answered_correctly_mean'])\n",
    ")\n",
    "\n",
    "\n",
    "staging_1['hmean_user_content_accuracy_correct_answer'] = 3 * (\n",
    "    (staging_2['user_answered_correctly_mean'] * staging_1['content_answered_correctly_mean'] * staging_3['correct_answer_correctly_mean'])/\n",
    "    ((staging_2['user_answered_correctly_mean']*staging_1['content_answered_correctly_mean']) + (staging_1['content_answered_correctly_mean']*staging_3['correct_answer_correctly_mean']) + (staging_3['correct_answer_correctly_mean']*staging_2['user_answered_correctly_mean']))\n",
    ")\n",
    "\n",
    "staging_1['hmean_user_content_accuracy_progress_question'] = 3 * (\n",
    "    (staging_2['user_answered_correctly_mean'] * staging_1['content_answered_correctly_mean'] * staging_6['answered_correctly_mean'])/\n",
    "    ((staging_2['user_answered_correctly_mean']*staging_1['content_answered_correctly_mean']) + (staging_1['content_answered_correctly_mean']*staging_6['answered_correctly_mean']) + (staging_6['answered_correctly_mean']*staging_2['user_answered_correctly_mean']))\n",
    ")"
   ]
  },
  {
   "cell_type": "markdown",
   "metadata": {},
   "source": [
    "## Save final "
   ]
  },
  {
   "cell_type": "code",
   "execution_count": null,
   "metadata": {},
   "outputs": [],
   "source": [
    "%%time\n",
    "#17min 38s with ky feature\n",
    "np.savez_compressed('/Users/nlisch/downloads/Kaggle_riid/process/data_features_final.npz',\n",
    "                    \n",
    "                    # Part 1\n",
    "                    question_6116 = data_on_the_fly2['question_6116'],\n",
    "                    question_6173 = data_on_the_fly2['question_6173'],\n",
    "                    question_4120 = data_on_the_fly2['question_4120'],\n",
    "                    question_175 = data_on_the_fly2['question_175'],\n",
    "                    question_7876 = data_on_the_fly2['question_7876'],\n",
    "                    question_7900 = data_on_the_fly2['question_7900'],\n",
    "                    question_2065 = data_on_the_fly2['question_2065'],\n",
    "                    question_2064 = data_on_the_fly2['question_2064'],\n",
    "                    question_2063 = data_on_the_fly2['question_2063'],\n",
    "                    question_4492 = data_on_the_fly2['question_4492'],\n",
    "                    question_3365 = data_on_the_fly2['question_3365'],\n",
    "                    question_3364 = data_on_the_fly2['question_3364'],\n",
    "                    question_3363 = data_on_the_fly2['question_3363'],\n",
    "                    question_4696 = data_on_the_fly2['question_4696'],\n",
    "                    question_1278 = data_on_the_fly2['question_1278'],\n",
    "                    question_6370 = data_on_the_fly2['question_6370'],\n",
    "                    question_2946 = data_on_the_fly2['question_2946'],\n",
    "                    question_2947 = data_on_the_fly2['question_2947'],\n",
    "                    \n",
    "                    \n",
    "                    #From data file\n",
    "                    #row_id = data['row_id'],\n",
    "                    #key = data['key'],\n",
    "                    timestamp = data['timestamp'],\n",
    "                    user_id = data['user_id'],\n",
    "                    content_id = data['content_id'],\n",
    "                    #content_type_id = data['content_type_id'],\n",
    "                    task_container_id = data['task_container_id'],\n",
    "                    #user_answer = data['user_answer'],\n",
    "                    answered_correctly = data['answered_correctly'],\n",
    "                    prior_question_elapsed_time = data['prior_question_elapsed_time'],\n",
    "                    #prior_question_had_explanation = data['prior_question_had_explanation'],\n",
    "                    #question_id = data['question_id'],\n",
    "                    bundle_id = data['bundle_id'],\n",
    "                    #correct_answer = data['correct_answer'],\n",
    "                    part = data['part'],\n",
    "                    #tags = data['tags'],\n",
    "                    question_answered = data['question_answered'],\n",
    "                    #false_answer = data['false_answer'], \n",
    "                    #key= data['key'],\n",
    "                    #From previous answered data\n",
    "                    previous_false_answer = previous_answer_questions_stats_final['previous_false_answer'],\n",
    "                    #previous_correct_answer = previous_answer_questions_stats_final['previous_correct_answer'],\n",
    "                    #nb_previous_questions_answered = previous_answer_questions_stats_final['nb_previous_questions_answered'],\n",
    "                    #previous_answer = previous_answer_questions_stats_final['previous_answer'],\n",
    "                    #content_answered_correctly_skew = content_stats['content_answered_correctly_skew'],\n",
    "                    content_answered_correctly_mean = content_stats['content_answered_correctly_mean'],\n",
    "                    bundle_answered_correctly_mean = bundle_stats['bundle_answered_correctly_mean'],\n",
    "                    #content_answered_correctly_std = content_stats['content_answered_correctly_std'],\n",
    "                    #content_answered_correctly_median = content_stats['content_answered_correctly_median'],\n",
    "                    #user_answered_correctly_skew = users_stats['user_answered_correctly_skew'],\n",
    "                    user_answered_correctly_mean = users_stats['user_answered_correctly_mean'],\n",
    "                    #user_answered_correctly_std = users_stats['user_answered_correctly_std'],\n",
    "                    user_answered_correctly_count = users_stats['user_answered_correctly_count'],\n",
    "                    #user_answer_prob_0 = answer_prob_final['user_answer_prob_0'],\n",
    "                    #user_answer_prob_1 = answer_prob_final['user_answer_prob_1'],\n",
    "                    #user_answer_prob_2 = answer_prob_final['user_answer_prob_2'],\n",
    "                    #user_answer_prob_3 = answer_prob_final['user_answer_prob_3'],\n",
    "                    #prob_answer_correct = answer_prob_final['prob_answer_correct'],\n",
    "                    #prob_answer_incorrect = answer_prob_final['prob_answer_incorrect'],\n",
    "                    hmean_user_content_accuracy = staging_1['hmean_user_content_accuracy'],\n",
    "                    content_answered_correctly_count = content_stats['content_answered_correctly_count'],\n",
    "                    #hmean_answer_content_accuracy = staging_1['hmean_answer_content_accuracy'],\n",
    "                    answer_answered_correctly_mean = answer_stats_final['user_answered_correctly_mean'],\n",
    "                    question_answered_progress = question_answered_progress['question_answered_progress'],\n",
    "                    question_answered_progress_mean = question_answered_progress['answered_correctly_mean'],\n",
    "                    #hmean_user_content_accuracy_progress_question = staging_1['hmean_user_content_accuracy_progress_question'],\n",
    "                    answered_correctly_user = users_stats['user_answered_correctly_sum'],\n",
    "                    lagtime_stats = lagtime_stats['lagtime'],\n",
    "                    user_answered_correctly_mean_real = lagtime_stats['user_answered_correctly_mean_real'],\n",
    "                    hmean_user_answered_correctly_mean_real = staging_1['hmean_user_answered_correctly_mean_real']\n",
    "                   )\n",
    "                \n",
    "\n",
    "del data\n",
    "del previous_answer_questions_stats_final\n",
    "del content_stats\n",
    "del users_stats\n",
    "del answer_prob_final\n",
    "gc.collect()"
   ]
  },
  {
   "cell_type": "code",
   "execution_count": null,
   "metadata": {},
   "outputs": [],
   "source": [
    "%%time\n",
    "#17min 38s with ky feature\n",
    "np.savez_compressed('/Users/nlisch/downloads/Kaggle_riid/process/data_features_final2.npz',\n",
    "\n",
    "                    \n",
    "                  #Specific\n",
    "                    question_5692 = data_on_the_fly2['question_5692'],\n",
    "                    question_128 = data_on_the_fly2['question_128'],\n",
    "                    \n",
    "                  # Part 3\n",
    "                    question_6878 = data_on_the_fly2['question_6878'],\n",
    "                    question_3731 = data_on_the_fly2['question_3731'],\n",
    "                    question_4995 = data_on_the_fly2['question_4995'],\n",
    "                    question_4414 = data_on_the_fly2['question_4414'],\n",
    "                    question_1315 = data_on_the_fly2['question_1315'],\n",
    "                    question_6908 = data_on_the_fly2['question_6908'],\n",
    "                    question_6909 = data_on_the_fly2['question_6909'],\n",
    "                    question_6911 = data_on_the_fly2['question_6911'],\n",
    "                    question_6910 = data_on_the_fly2['question_6910'],\n",
    "                    question_877 = data_on_the_fly2['question_877'],\n",
    "                    question_3717 = data_on_the_fly2['question_3717'],\n",
    "                    question_4476 = data_on_the_fly2['question_4476'],\n",
    "                    question_853 = data_on_the_fly2['question_853'],\n",
    "                    question_4108 = data_on_the_fly2['question_4108'],\n",
    "                    question_951 = data_on_the_fly2['question_951'],\n",
    "                    question_5177 = data_on_the_fly2['question_5177'],\n",
    "                    question_6318 = data_on_the_fly2['question_6318'],\n",
    "                    question_199 = data_on_the_fly2['question_199'],\n",
    "                    question_7898 = data_on_the_fly2['question_7898'],\n",
    "                    question_738 = data_on_the_fly2['question_738'],\n",
    "                    \n",
    "                    # Part 2\n",
    "                    question_2594 = data_on_the_fly2['question_2594'],\n",
    "                    question_2595 = data_on_the_fly2['question_2595'],\n",
    "                    question_2593 = data_on_the_fly2['question_2593'],\n",
    "                    question_7218 = data_on_the_fly2['question_7218'],\n",
    "                    question_7217 = data_on_the_fly2['question_7217'],\n",
    "                    question_7216 = data_on_the_fly2['question_7216'],\n",
    "                    question_7219 = data_on_the_fly2['question_7219'],\n",
    "                    question_10686 = data_on_the_fly2['question_10686'],\n",
    "                    question_294 = data_on_the_fly2['question_294'],\n",
    "                    question_10685 = data_on_the_fly2['question_10685'],\n",
    "                    question_10688 = data_on_the_fly2['question_10688'],\n",
    "                    question_10684 = data_on_the_fly2['question_10684'],\n",
    "                    question_10687 = data_on_the_fly2['question_10687'],\n",
    "                    question_3878 = data_on_the_fly2['question_3878'],\n",
    "                    question_6879 = data_on_the_fly2['question_6879'],\n",
    "                    question_6877 = data_on_the_fly2['question_6877'],\n",
    "                    question_6880 = data_on_the_fly2['question_6880']\n",
    "                   )"
   ]
  },
  {
   "cell_type": "code",
   "execution_count": null,
   "metadata": {},
   "outputs": [],
   "source": [
    "%%time\n",
    "#17min 38s with ky feature\n",
    "np.savez_compressed('/Users/nlisch/downloads/Kaggle_riid/process/data_features_final3.npz',\n",
    "                    \n",
    "\n",
    "                    # Part 5\n",
    "                    question_2948 = data_on_the_fly2['question_2948'],\n",
    "                    \n",
    "                    # Part 4\n",
    "                    question_4821 = data_on_the_fly2['question_4821'],\n",
    "                    question_824 = data_on_the_fly2['question_824'],\n",
    "                    question_6117 = data_on_the_fly2['question_6117'],\n",
    "                    question_5616 = data_on_the_fly2['question_5616'],\n",
    "                    question_446 = data_on_the_fly2['question_446'],\n",
    "                    question_6120 = data_on_the_fly2['question_6120'],\n",
    "                    question_834 = data_on_the_fly2['question_834'],\n",
    "                    question_9259 = data_on_the_fly2['question_9259'],\n",
    "                    question_762 = data_on_the_fly2['question_762'],\n",
    "                    question_6002 = data_on_the_fly2['question_6002'],\n",
    "                    question_4258 = data_on_the_fly2['question_4258'],\n",
    "                    question_5703 = data_on_the_fly2['question_5703'],\n",
    "                    question_6119 = data_on_the_fly2['question_6119'],\n",
    "                    question_638 = data_on_the_fly2['question_638'],\n",
    "                    question_405 = data_on_the_fly2['question_405'],\n",
    "                    question_1313 = data_on_the_fly2['question_1313'],\n",
    "                    question_4416 = data_on_the_fly2['question_4416'],\n",
    "                    question_6668 = data_on_the_fly2['question_6668'],\n",
    "                    question_3871 = data_on_the_fly2['question_3871'],\n",
    "                    question_4340 = data_on_the_fly2['question_4340'],\n",
    "                    question_1296 = data_on_the_fly2['question_1296'],\n",
    "                    question_4966 = data_on_the_fly2['question_4966'],\n",
    "                   )"
   ]
  },
  {
   "cell_type": "code",
   "execution_count": null,
   "metadata": {},
   "outputs": [],
   "source": [
    "x = np.load('/Users/nlisch/downloads/Kaggle_riid/process/data_features_final.npz', mmap_mode='r')\n",
    "for k in x.files:\n",
    "    print(k)"
   ]
  },
  {
   "cell_type": "markdown",
   "metadata": {},
   "source": [
    "# CALCULATE Previous list correct anf false for model + list content ID"
   ]
  },
  {
   "cell_type": "markdown",
   "metadata": {},
   "source": [
    "# previous stats"
   ]
  },
  {
   "cell_type": "code",
   "execution_count": null,
   "metadata": {},
   "outputs": [],
   "source": [
    "%%time\n",
    "#Check features data\n",
    "file_path = '/Users/nlisch/downloads/Kaggle_riid/process/prediction/previous_answer_questions_to_predict.npz'\n",
    "columns = ['user_id', 'content_id',  'previous_false_answer', 'previous_correct_answer']\n",
    "\n",
    "data = load_data_np(file_path, columns, 'previous_stats_questions' )"
   ]
  },
  {
   "cell_type": "code",
   "execution_count": null,
   "metadata": {},
   "outputs": [],
   "source": [
    "%%time\n",
    "data.fillna(0, inplace=True)"
   ]
  },
  {
   "cell_type": "code",
   "execution_count": null,
   "metadata": {},
   "outputs": [],
   "source": [
    "%%time\n",
    "%%time\n",
    "#Check features data\n",
    "file_path = '/Users/nlisch/downloads/Kaggle_riid/process/prediction/content_ids_to_predict.npz'\n",
    "columns = ['user_id',  'count_question_anwsered', 'answered_correctly_user']\n",
    "\n",
    "data2 = load_data_np(file_path, columns, 'user_stats' )\n",
    "\n"
   ]
  },
  {
   "cell_type": "code",
   "execution_count": null,
   "metadata": {},
   "outputs": [],
   "source": [
    "%%time\n",
    "#Check features data\n",
    "file_path = '/Users/nlisch/downloads/Kaggle_riid/process/prediction/users_stats_final_to_predict.npz'\n",
    "columns = ['user_id',\n",
    "           'user_answered_correctly_mean']\n",
    "\n",
    "data3 = load_data_np(file_path, columns, 'user_stats')"
   ]
  },
  {
   "cell_type": "markdown",
   "metadata": {},
   "source": [
    "# New method"
   ]
  },
  {
   "cell_type": "code",
   "execution_count": null,
   "metadata": {},
   "outputs": [],
   "source": [
    "data.head(1)"
   ]
  },
  {
   "cell_type": "code",
   "execution_count": null,
   "metadata": {},
   "outputs": [],
   "source": [
    "users_list = data['user_id'].unique().tolist()"
   ]
  },
  {
   "cell_type": "code",
   "execution_count": null,
   "metadata": {},
   "outputs": [],
   "source": [
    "%%time\n",
    "dict_map = {}\n",
    "j = 0\n",
    "for i in tqdm(range(10000, 410000, 10000)):\n",
    "    print(i)\n",
    "    list_it = (users_list[j:i])\n",
    "    for k in list_it:\n",
    "        dict_map[k] = i\n",
    "    file_name = '/Users/nlisch/downloads/Kaggle_riid/process/prediction/user_state/part_' + str(i) + '.npz'\n",
    "    subset = data[data['user_id'].isin(list_it)]\n",
    "    subset = subset.merge(data2, how = 'left', on = 'user_id')\n",
    "    subset = subset.merge(data3, how = 'left', on = 'user_id')\n",
    "    print(subset.head(10))\n",
    "    user_id = np.array(subset['user_id'].tolist())\n",
    "    print(user_id)\n",
    "    content_id = np.array(subset['content_id'].tolist())\n",
    "    previous_false_answer = np.array(subset['previous_false_answer'].tolist())\n",
    "    previous_correct_answer = np.array(subset['previous_correct_answer'].tolist())\n",
    "    count_question_anwsered = np.array(subset['count_question_anwsered'].tolist())\n",
    "    answered_correctly_user = np.array(subset['answered_correctly_user'].tolist())\n",
    "    user_answered_correctly_mean = np.array(subset['user_answered_correctly_mean'].tolist())\n",
    "    print(file_name)\n",
    "    np.savez_compressed(file_name,\n",
    "                    user_id = user_id,\n",
    "                    content_id = content_id,\n",
    "                    previous_false_answer = previous_false_answer,\n",
    "                    previous_correct_answer = previous_correct_answer,\n",
    "                    user_answered_correctly_count = count_question_anwsered, \n",
    "                    answered_correctly_user = answered_correctly_user,\n",
    "                    user_answered_correctly_mean = user_answered_correctly_mean\n",
    "                        \n",
    "                   )\n",
    "    j = i"
   ]
  },
  {
   "cell_type": "code",
   "execution_count": null,
   "metadata": {},
   "outputs": [],
   "source": [
    "len(dict_map)"
   ]
  },
  {
   "cell_type": "code",
   "execution_count": null,
   "metadata": {},
   "outputs": [],
   "source": [
    "import json\n",
    "json = json.dumps(dict_map)\n",
    "f = open(\"dict_map.json\",\"w\")\n",
    "f.write(json)\n",
    "f.close()"
   ]
  },
  {
   "cell_type": "code",
   "execution_count": null,
   "metadata": {},
   "outputs": [],
   "source": [
    "%%time\n",
    "import os\n",
    "import zipfile\n",
    "\n",
    "def zipdir(path, ziph):\n",
    "    lenDirPath = len(path)\n",
    "    # ziph is zipfile handle\n",
    "    for root, dirs, files in os.walk(path):\n",
    "        \n",
    "        for file in files:\n",
    "            filePath = os.path.join(root, file)\n",
    "            ziph.write(filePath, filePath[lenDirPath :])\n",
    "\n",
    "if __name__ == '__main__':\n",
    "    zipf = zipfile.ZipFile('/Users/nlisch/downloads/Kaggle_riid/process/test_zip/state.zip', 'w', zipfile.ZIP_DEFLATED)\n",
    "    zipdir('/Users/nlisch/downloads/Kaggle_riid/process/prediction/user_state/', zipf)\n",
    "    zipf.close()"
   ]
  },
  {
   "cell_type": "raw",
   "metadata": {},
   "source": [
    "1576756285"
   ]
  },
  {
   "cell_type": "raw",
   "metadata": {},
   "source": [
    "users_list[67001:67004]"
   ]
  },
  {
   "cell_type": "code",
   "execution_count": null,
   "metadata": {
    "scrolled": true
   },
   "outputs": [],
   "source": [
    "%%time\n",
    "for i in tqdm(users_list[67002:]):\n",
    "    file_name = '/Users/nlisch/downloads/Kaggle_riid/process/prediction/users_state/' + str(i) + '.npz'\n",
    "    print(i)\n",
    "    subset = data[data['user_id'].isin([i])]\n",
    "    user_id = np.array(subset['user_id'].tolist())\n",
    "    content_id = np.array(subset['content_id'].tolist())\n",
    "    previous_false_answer = np.array(subset['previous_false_answer'].tolist())\n",
    "    previous_correct_answer = np.array(subset['previous_correct_answer'].tolist())\n",
    "    np.savez_compressed(file_name,\n",
    "                    user_id = user_id,\n",
    "                    content_id = content_id,\n",
    "                    previous_false_answer = previous_false_answer,\n",
    "                    previous_correct_answer = previous_correct_answer,\n",
    "                   )"
   ]
  },
  {
   "cell_type": "markdown",
   "metadata": {},
   "source": [
    "# Check Load again"
   ]
  },
  {
   "cell_type": "code",
   "execution_count": null,
   "metadata": {},
   "outputs": [],
   "source": [
    "N_ROWS = 99271101\n",
    "N_ROWS_train = 50004223\n",
    "N_ROWS_test = 2500267\n",
    "N_ROWS_user_stats = 393656\n",
    "N_ROWS_content_stats = 13523\n",
    "N_ROWS_previous_stats_questions = 86867031\n",
    "def get_index_np(type_data):\n",
    "    if type_data == 'train':\n",
    "        final = np.arange(N_ROWS_train)\n",
    "    if type_data == 'test':\n",
    "        final = np.arange(N_ROWS_test)\n",
    "    if type_data == 'user_stats':\n",
    "        final = np.arange(N_ROWS_user_stats)\n",
    "    if type_data == 'content_stats':\n",
    "        final = np.arange(N_ROWS_content_stats)\n",
    "    if type_data == 'previous_stats_questions':\n",
    "        final = np.arange(N_ROWS_previous_stats_questions)\n",
    "    if type_data == 'full_dataset':\n",
    "        final = np.arange(N_ROWS)\n",
    "    print(final)\n",
    "    return final"
   ]
  },
  {
   "cell_type": "code",
   "execution_count": null,
   "metadata": {},
   "outputs": [],
   "source": [
    "def load_data_np(file_path, columns_selected):\n",
    "    data = np.load(file_path , allow_pickle=True)\n",
    "    df = pd.DataFrame(index=np.arange(data['user_id'].shape[0]\n",
    "))\n",
    "    for col in tqdm(columns_selected):\n",
    "        df[col] = data[col]\n",
    "    return df"
   ]
  },
  {
   "cell_type": "code",
   "execution_count": null,
   "metadata": {},
   "outputs": [],
   "source": [
    "%%time\n",
    "#Check features data\n",
    "file_path = '/Users/nlisch/downloads/Kaggle_riid/process/prediction/users_state/2147482888.npz'\n",
    "columns = ['user_id', 'content_id',  'previous_false_answer', 'previous_correct_answer']\n",
    "\n",
    "user = load_data_np(file_path, columns )"
   ]
  },
  {
   "cell_type": "markdown",
   "metadata": {},
   "source": [
    "# Old method"
   ]
  },
  {
   "cell_type": "code",
   "execution_count": null,
   "metadata": {},
   "outputs": [],
   "source": [
    "%%time\n",
    "#Order to predict\n",
    "data = data.sort_values(by=['user_id'])"
   ]
  },
  {
   "cell_type": "code",
   "execution_count": null,
   "metadata": {},
   "outputs": [],
   "source": [
    "pf_list = data.groupby(['user_id', 'content_id'])['previous_false_answer'].sum().astype(np.uint8).groupby('user_id').apply(np.array).values"
   ]
  },
  {
   "cell_type": "code",
   "execution_count": null,
   "metadata": {},
   "outputs": [],
   "source": [
    "pc_list = data.groupby(['user_id', 'content_id'])['previous_correct_answer'].sum().astype(np.uint8).groupby('user_id').apply(np.array).values"
   ]
  },
  {
   "cell_type": "code",
   "execution_count": null,
   "metadata": {},
   "outputs": [],
   "source": [
    "%%time\n",
    "np.savez_compressed('/Users/nlisch/downloads/Kaggle_riid/process/prediction/previous_arrays_to_predict.npz',\n",
    "                    pf_list = pf_list,\n",
    "                    pc_list = pc_list\n",
    "                   )"
   ]
  },
  {
   "cell_type": "markdown",
   "metadata": {},
   "source": [
    "## unique content by user"
   ]
  },
  {
   "cell_type": "code",
   "execution_count": null,
   "metadata": {},
   "outputs": [],
   "source": [
    "#CREATE FIRST QUESTION FEATURES"
   ]
  },
  {
   "cell_type": "code",
   "execution_count": null,
   "metadata": {},
   "outputs": [],
   "source": [
    "%%time\n",
    "N_ROWS = 99271101\n",
    "\n",
    "def get_index_np():\n",
    "    return np.arange(N_ROWS)\n",
    "def load_data_np_multifiles(file_path, file_path2, file_path3, columns_selected, columns_selected2, columns_selected3):\n",
    "    data = np.load(file_path , allow_pickle=True)\n",
    "    data2 = np.load(file_path2 , allow_pickle=True)\n",
    "    data3 = np.load(file_path3 , allow_pickle=True)\n",
    "    df = pd.DataFrame(index=get_index_np())\n",
    "    for col in tqdm(columns_selected):\n",
    "        df[col] = data[col]\n",
    "    for col in tqdm(columns_selected2):\n",
    "        df[col] = data2[col]\n",
    "    for col in tqdm(columns_selected3):\n",
    "        df[col] = data3[col]\n",
    "    return df\n",
    "\n",
    "\n",
    "#Check features data\n",
    "file_path = '/Users/nlisch/downloads/Kaggle_riid/process/data_features_final.npz'\n",
    "file_path2 = '/Users/nlisch/downloads/Kaggle_riid/process/data_features_final2.npz'\n",
    "file_path3 = '/Users/nlisch/downloads/Kaggle_riid/process/data_features_final3.npz'\n",
    "features = ['timestamp','user_id']\n",
    "\n",
    "features2 = [\n",
    "'question_6116',\n",
    "'question_6173',\n",
    "'question_4120',\n",
    "'question_175',\n",
    "'question_7876',\n",
    "'question_7900',\n",
    "'question_2065',\n",
    "'question_2064',\n",
    "'question_2063',\n",
    "'question_4492',\n",
    "'question_3365',\n",
    "'question_3364',\n",
    "'question_3363',\n",
    "'question_4696',\n",
    "'question_1278',\n",
    "'question_6370',\n",
    "'question_2946',\n",
    "'question_2947',\n",
    "'question_6878',\n",
    "'question_3731',\n",
    "'question_4995',\n",
    "'question_4414',\n",
    "'question_1315',\n",
    "'question_6908',\n",
    "'question_6909',\n",
    "'question_6911',\n",
    "'question_6910',\n",
    "'question_877',\n",
    "\n",
    "            ]\n",
    "\n",
    "features3 = []\n",
    "\n",
    "\n",
    "data = load_data_np_multifiles(file_path,\n",
    "                    file_path2,\n",
    "                    file_path3,\n",
    "                    features,\n",
    "                   features2, \n",
    "                   features3\n",
    "                              )\n",
    "#Build features list\n",
    "features = features + features2 + features3\n",
    "print(len(features))"
   ]
  },
  {
   "cell_type": "code",
   "execution_count": null,
   "metadata": {},
   "outputs": [],
   "source": [
    "%%time\n",
    "data = data.sort_values(by=['user_id', 'timestamp'], ascending=False)"
   ]
  },
  {
   "cell_type": "code",
   "execution_count": null,
   "metadata": {},
   "outputs": [],
   "source": [
    "%%time\n",
    "data.drop_duplicates(subset=['user_id'], inplace = True)"
   ]
  },
  {
   "cell_type": "code",
   "execution_count": null,
   "metadata": {},
   "outputs": [],
   "source": [
    "question_6116 = np.array(data['question_6116'].tolist())\n",
    "question_6173 = np.array(data['question_6173'].tolist())\n",
    "question_4120 = np.array(data['question_4120'].tolist())\n",
    "question_175 = np.array(data['question_175'].tolist())\n",
    "question_7876 = np.array(data['question_7876'].tolist())\n",
    "question_7900 = np.array(data['question_7900'].tolist())\n",
    "question_2065 = np.array(data['question_2065'].tolist())\n",
    "question_2064 = np.array(data['question_2064'].tolist())\n",
    "question_2063 = np.array(data['question_2063'].tolist())\n",
    "question_4492 = np.array(data['question_4492'].tolist())\n",
    "question_3365 = np.array(data['question_3365'].tolist())\n",
    "question_3364 = np.array(data['question_3364'].tolist())\n",
    "question_3363 = np.array(data['question_3363'].tolist())\n",
    "question_4696 = np.array(data['question_4696'].tolist())\n",
    "question_1278 = np.array(data['question_1278'].tolist())\n",
    "question_6370 = np.array(data['question_6370'].tolist())\n",
    "question_2946 = np.array(data['question_2946'].tolist())\n",
    "question_6878 = np.array(data['question_6878'].tolist())\n",
    "question_3731 = np.array(data['question_3731'].tolist())\n",
    "question_4995 = np.array(data['question_4995'].tolist())\n",
    "question_4414 = np.array(data['question_4414'].tolist())\n",
    "question_1315 = np.array(data['question_1315'].tolist())\n",
    "question_6908 = np.array(data['question_6908'].tolist())\n",
    "question_6909 = np.array(data['question_6909'].tolist())\n",
    "question_6911 = np.array(data['question_6911'].tolist())\n",
    "question_6910 = np.array(data['question_6910'].tolist())\n",
    "question_877 = np.array(data['question_877'].tolist())\n"
   ]
  },
  {
   "cell_type": "code",
   "execution_count": null,
   "metadata": {},
   "outputs": [],
   "source": [
    "%%time\n",
    "np.savez_compressed('/Users/nlisch/downloads/Kaggle_riid/process/prediction/question_features_to_predict1.npz',\n",
    "            question_6116 = question_6116,\n",
    "question_6173 = question_6173,\n",
    "question_4120 = question_4120,\n",
    "question_175 = question_175,\n",
    "question_7876 = question_7876,\n",
    "question_7900 = question_7900,\n",
    "question_2065 = question_2065,\n",
    "question_2064 = question_2064,\n",
    "question_2063 = question_2063,\n",
    "question_4492 = question_4492,\n",
    "question_3365 = question_3365,\n",
    "question_3364 = question_3364,\n",
    "question_3363 = question_3363,\n",
    "question_4696 = question_4696,\n",
    "question_1278 = question_1278,\n",
    "question_6370 = question_6370,\n",
    "question_2946 = question_2946,\n",
    "question_6878 = question_6878,\n",
    "question_3731 = question_3731,\n",
    "question_4995 = question_4995,\n",
    "question_4414 = question_4414,\n",
    "question_1315 = question_1315,\n",
    "question_6908 = question_6908,\n",
    "question_6909 = question_6909,\n",
    "question_6911 = question_6911,\n",
    "question_6910 = question_6910,\n",
    "question_877 = question_877,\n",
    "                   )"
   ]
  },
  {
   "cell_type": "code",
   "execution_count": null,
   "metadata": {},
   "outputs": [],
   "source": [
    "#Check features data\n",
    "file_path = '/Users/nlisch/downloads/Kaggle_riid/process/data_features_final.npz'\n",
    "file_path2 = '/Users/nlisch/downloads/Kaggle_riid/process/data_features_final2.npz'\n",
    "file_path3 = '/Users/nlisch/downloads/Kaggle_riid/process/data_features_final3.npz'\n",
    "features = ['timestamp','user_id']\n",
    "\n",
    "features2 = [\n",
    "\n",
    "'question_3717',\n",
    "'question_4476',\n",
    "'question_853',\n",
    "'question_4108',\n",
    "'question_951',\n",
    "'question_5177',\n",
    "'question_6318',\n",
    "'question_199',\n",
    "'question_7898',\n",
    "'question_738',\n",
    "'question_2594',\n",
    "'question_2595',\n",
    "'question_2593',\n",
    "'question_7218',\n",
    "'question_7217',\n",
    "'question_7216',\n",
    "'question_7219',\n",
    "'question_10686',\n",
    "'question_294',\n",
    "'question_10685',\n",
    "'question_10688',\n",
    "'question_10684',\n",
    "'question_10687',\n",
    "'question_3878',\n",
    "'question_6879',\n",
    "'question_6877',\n",
    "'question_6880'\n",
    "            ]\n",
    "\n",
    "features3 = []\n",
    "\n",
    "\n",
    "data = load_data_np_multifiles(file_path,\n",
    "                    file_path2,\n",
    "                    file_path3,\n",
    "                    features,\n",
    "                   features2, \n",
    "                   features3\n",
    "                              )\n",
    "#Build features list\n",
    "features = features + features2 + features3\n",
    "print(len(features))"
   ]
  },
  {
   "cell_type": "code",
   "execution_count": null,
   "metadata": {},
   "outputs": [],
   "source": [
    "\n",
    "question_3717 = np.array(data['question_3717'].tolist())\n",
    "question_4476 = np.array(data['question_4476'].tolist())\n",
    "question_853 = np.array(data['question_853'].tolist())\n",
    "question_4108 = np.array(data['question_4108'].tolist())\n",
    "question_951 = np.array(data['question_951'].tolist())\n",
    "question_5177 = np.array(data['question_5177'].tolist())\n",
    "question_6318 = np.array(data['question_6318'].tolist())\n",
    "question_199 = np.array(data['question_199'].tolist())\n",
    "question_7898 = np.array(data['question_7898'].tolist())\n",
    "question_738 = np.array(data['question_738'].tolist())\n",
    "question_2594 = np.array(data['question_2594'].tolist())\n",
    "question_2595 = np.array(data['question_2595'].tolist())\n",
    "question_2593 = np.array(data['question_2593'].tolist())\n",
    "question_7218 = np.array(data['question_7218'].tolist())\n",
    "question_7217 = np.array(data['question_7217'].tolist())\n",
    "question_7216 = np.array(data['question_7216'].tolist())\n",
    "question_7219 = np.array(data['question_7219'].tolist())\n",
    "question_10686 = np.array(data['question_10686'].tolist())\n",
    "question_294 = np.array(data['question_294'].tolist())\n",
    "question_10685 = np.array(data['question_10685'].tolist())\n",
    "question_10688 = np.array(data['question_10688'].tolist())\n",
    "question_10684 = np.array(data['question_10684'].tolist())\n",
    "question_10687 = np.array(data['question_10687'].tolist())\n",
    "question_3878 = np.array(data['question_3878'].tolist())\n",
    "question_6879 = np.array(data['question_6879'].tolist())\n",
    "question_6877 = np.array(data['question_6877'].tolist())"
   ]
  },
  {
   "cell_type": "code",
   "execution_count": null,
   "metadata": {},
   "outputs": [],
   "source": [
    "%%time\n",
    "np.savez_compressed('/Users/nlisch/downloads/Kaggle_riid/process/prediction/question_features_to_predict2.npz',\n",
    "            question_3717 = question_3717,\n",
    "            question_4476 = question_4476,\n",
    "            question_853 = question_853,\n",
    "            question_4108 = question_4108,\n",
    "            question_951 = question_951,\n",
    "            question_5177 = question_5177,\n",
    "            question_6318 = question_6318,\n",
    "            question_199 = question_199,\n",
    "            question_7898 = question_7898,\n",
    "            question_738 = question_738,\n",
    "            question_2594 = question_2594,\n",
    "            question_2595 = question_2595,\n",
    "            question_2593 = question_2593,\n",
    "            question_7218 = question_7218,\n",
    "            question_7217 = question_7217,\n",
    "            question_7216 = question_7216,\n",
    "            question_7219 = question_7219,\n",
    "            question_10686 = question_10686,\n",
    "            question_294 = question_294,\n",
    "            question_10685 = question_10685,\n",
    "            question_10688 = question_10688,\n",
    "            question_10684 = question_10684,\n",
    "            question_10687 = question_10687,\n",
    "            question_3878 = question_3878,\n",
    "            question_6879 = question_6879,\n",
    "            question_6877 = question_6877,\n",
    "            question_6880 = question_6880,\n",
    "                   )"
   ]
  },
  {
   "cell_type": "markdown",
   "metadata": {},
   "source": [
    "# Create content"
   ]
  },
  {
   "cell_type": "code",
   "execution_count": null,
   "metadata": {},
   "outputs": [],
   "source": [
    "%%time\n",
    "N_ROWS = 99271101\n",
    "N_ROWS_train = 50004223\n",
    "N_ROWS_test = 2500267\n",
    "N_ROWS_user_stats = 393656\n",
    "N_ROWS_content_stats = 13523\n",
    "N_ROWS_previous_stats_questions = 86867031\n",
    "def get_index_np(type_data):\n",
    "    if type_data == 'train':\n",
    "        final = np.arange(N_ROWS_train)\n",
    "    if type_data == 'test':\n",
    "        final = np.arange(N_ROWS_test)\n",
    "    if type_data == 'user_stats':\n",
    "        final = np.arange(N_ROWS_user_stats)\n",
    "    if type_data == 'content_stats':\n",
    "        final = np.arange(N_ROWS_content_stats)\n",
    "    if type_data == 'previous_stats_questions':\n",
    "        final = np.arange(N_ROWS_previous_stats_questions)\n",
    "    if type_data == 'full_dataset':\n",
    "        final = np.arange(N_ROWS)\n",
    "    return final\n",
    "#Check features data\n",
    "file_path = '/Users/nlisch/downloads/Kaggle_riid/process/data_features_final.npz'\n",
    "columns = ['user_id', 'content_id', 'user_answered_correctly_count', 'answered_correctly']\n",
    "\n",
    "data = load_data_np(file_path, columns, 'full_dataset' )"
   ]
  },
  {
   "cell_type": "code",
   "execution_count": null,
   "metadata": {},
   "outputs": [],
   "source": [
    "%%time\n",
    "N_ROWS = 393656\n",
    "\n",
    "def get_index_np():\n",
    "    return np.arange(N_ROWS)\n",
    "def load_data_np_multifiles(file_path, file_path2, file_path3, columns_selected, columns_selected2, columns_selected3):\n",
    "    data = np.load(file_path , allow_pickle=True)\n",
    "    data2 = np.load(file_path2 , allow_pickle=True)\n",
    "    data3 = np.load(file_path3 , allow_pickle=True)\n",
    "    df = pd.DataFrame(index=get_index_np())\n",
    "    for col in tqdm(columns_selected):\n",
    "        df[col] = data[col]\n",
    "    for col in tqdm(columns_selected2):\n",
    "        df[col] = data2[col]\n",
    "    for col in tqdm(columns_selected3):\n",
    "        df[col] = data3[col]\n",
    "    return df\n",
    "\n",
    "\n",
    "#Check features data\n",
    "file_path = '/Users/nlisch/downloads/Kaggle_riid/process/prediction/question_features_to_predict1.npz'\n",
    "file_path2 = '/Users/nlisch/downloads/Kaggle_riid/process/prediction/question_features_to_predict2.npz'\n",
    "file_path3 = '/Users/nlisch/downloads/Kaggle_riid/process/data_features_final3.npz'\n",
    "features = [\n",
    "'question_6116',\n",
    "'question_6173',\n",
    "'question_4120',\n",
    "'question_175',\n",
    "'question_7876',\n",
    "'question_7900',\n",
    "'question_2065',\n",
    "'question_2064',\n",
    "'question_2063',\n",
    "'question_4492',\n",
    "'question_3365',\n",
    "'question_3364',\n",
    "'question_3363',\n",
    "'question_4696',\n",
    "'question_1278',\n",
    "'question_6370',\n",
    "'question_2946',\n",
    "'question_2947',\n",
    "'user_id', \n",
    "\n",
    "\n",
    "           ]\n",
    "\n",
    "\n",
    "features2 = [\n",
    "'question_6878',\n",
    "'question_3731',\n",
    "'question_4995',\n",
    "'question_4414',\n",
    "'question_1315',\n",
    "'question_6908',\n",
    "'question_6909',\n",
    "'question_6911',\n",
    "'question_6910',\n",
    "'question_877',\n",
    "'question_3717',\n",
    "'question_4476',\n",
    "'question_853',\n",
    "'question_4108',\n",
    "'question_951',\n",
    "'question_5177',\n",
    "'question_6318',\n",
    "'question_199',\n",
    "'question_7898',\n",
    "'question_738',\n",
    "'question_2594',\n",
    "'question_2595',\n",
    "'question_2593',\n",
    "'question_7218',\n",
    "'question_7217',\n",
    "'question_7216',\n",
    "'question_7219',\n",
    "'question_10686',\n",
    "'question_294',\n",
    "'question_10685',\n",
    "'question_10688',\n",
    "'question_10684',\n",
    "'question_10687',\n",
    "'question_3878',\n",
    "'question_6879',\n",
    "'question_6877',\n",
    "'question_6880'\n",
    "            ]\n",
    "\n",
    "features3 = [\n",
    "# 'question_2948',\n",
    "#'question_4821',\n",
    "#'question_824',\n",
    "#'question_6117',\n",
    "#'question_5616',\n",
    "#'question_446',\n",
    "#'question_6120',\n",
    "#'question_834',\n",
    "#'question_9259',\n",
    "#'question_762',\n",
    "#'question_6002',\n",
    "#'question_4258',\n",
    "#'question_5703',\n",
    "#'question_6119',\n",
    "#'question_638',\n",
    "#'question_405',\n",
    "#'question_1313',\n",
    "#'question_4416',\n",
    "#'question_6668',\n",
    "#'question_3871',\n",
    "#'question_4340',\n",
    "#'question_1296',\n",
    "#'question_4966',\n",
    "]\n",
    "\n",
    "\n",
    "data2 = load_data_np_multifiles(file_path,\n",
    "                    file_path2,\n",
    "                    file_path3,\n",
    "                    features,\n",
    "                   features2, \n",
    "                   features3\n",
    "                              )\n",
    "#Build features list\n",
    "features = features + features2 + features3\n",
    "print(len(features))"
   ]
  },
  {
   "cell_type": "code",
   "execution_count": null,
   "metadata": {},
   "outputs": [],
   "source": [
    "%%time\n",
    "#Order to predict\n",
    "data2 = data2.sort_values(by=['user_id'])"
   ]
  },
  {
   "cell_type": "code",
   "execution_count": null,
   "metadata": {},
   "outputs": [],
   "source": [
    "%%time\n",
    "#Order to predict\n",
    "data = data.sort_values(by=['user_id'])"
   ]
  },
  {
   "cell_type": "code",
   "execution_count": null,
   "metadata": {},
   "outputs": [],
   "source": [
    "%%time\n",
    "content_ids = data.groupby('user_id')['content_id'].apply(np.array).apply(np.sort).apply(np.unique)"
   ]
  },
  {
   "cell_type": "code",
   "execution_count": null,
   "metadata": {},
   "outputs": [],
   "source": [
    "%%time\n",
    "count_question_anwsered = data.groupby('user_id')['user_answered_correctly_count'].mean().values "
   ]
  },
  {
   "cell_type": "code",
   "execution_count": null,
   "metadata": {},
   "outputs": [],
   "source": [
    "%%time\n",
    "answered_correctly_user = data.groupby('user_id')['answered_correctly'].sum().values"
   ]
  },
  {
   "cell_type": "code",
   "execution_count": null,
   "metadata": {},
   "outputs": [],
   "source": [
    "%%time\n",
    "np.savez_compressed('/Users/nlisch/downloads/Kaggle_riid/process/prediction/content_ids_to_predict.npz',\n",
    "                    user_id = content_ids.index,\n",
    "                    content_ids = content_ids, \n",
    "                    count_question_anwsered = count_question_anwsered,\n",
    "                    answered_correctly_user = answered_correctly_user,\n",
    "                    question_6116 = data2['question_6116'],\n",
    "                    question_6173 = data2['question_6173'],\n",
    "                    question_4120 = data2['question_4120'],\n",
    "                    question_175 = data2['question_175'],\n",
    "                    question_7876 = data2['question_7876'],\n",
    "                    question_7900 = data2['question_7900'],\n",
    "                    question_2065 = data2['question_2065'],\n",
    "                    question_2064 = data2['question_2064'],\n",
    "                    question_2063 = data2['question_2063'],\n",
    "                    question_4492 = data2['question_4492'],\n",
    "                    question_3365 = data2['question_3365'],\n",
    "                    question_3364 = data2['question_3364'],\n",
    "                    question_3363 = data2['question_3363'],\n",
    "                    question_4696 = data2['question_4696'],\n",
    "                    question_1278 = data2['question_1278'],\n",
    "                    question_6370 = data2['question_6370'],\n",
    "                    question_2946 = data2['question_2946'],\n",
    "                    question_6878 = data2['question_6878'],\n",
    "                    question_3731 = data2['question_3731'],\n",
    "                    question_4995 = data2['question_4995'],\n",
    "                    question_4414 = data2['question_4414'],\n",
    "                    question_1315 = data2['question_1315'],\n",
    "                    question_6908 = data2['question_6908'],\n",
    "                    question_6909 = data2['question_6909'],\n",
    "                    question_6911 = data2['question_6911'],\n",
    "                    question_6910 = data2['question_6910'],\n",
    "                    question_877 = data2['question_877'],\n",
    "                    question_3717 = data2['question_3717'],\n",
    "                    question_4476 = data2['question_4476'],\n",
    "                    question_853 = data2['question_853'],\n",
    "                    question_4108 = data2['question_4108'],\n",
    "                    question_951 = data2['question_951'],\n",
    "                    question_5177 = data2['question_5177'],\n",
    "                    question_6318 = data2['question_6318'],\n",
    "                    question_199 = data2['question_199'],\n",
    "                    question_7898 = data2['question_7898'],\n",
    "                    question_738 = data2['question_738'],\n",
    "                    question_2594 = data2['question_2594'],\n",
    "                    question_2595 = data2['question_2595'],\n",
    "                    question_2593 = data2['question_2593'],\n",
    "                    question_7218 = data2['question_7218'],\n",
    "                    question_7217 = data2['question_7217'],\n",
    "                    question_7216 = data2['question_7216'],\n",
    "                    question_7219 = data2['question_7219'],\n",
    "                    question_10686 = data2['question_10686'],\n",
    "                    question_294 = data2['question_294'],\n",
    "                    question_10685 = data2['question_10685'],\n",
    "                    question_10688 = data2['question_10688'],\n",
    "                    question_10684 = data2['question_10684'],\n",
    "                    question_10687 = data2['question_10687'],\n",
    "                    question_3878 = data2['question_3878'],\n",
    "                    question_6879 = data2['question_6879'],\n",
    "                    question_6877 = data2['question_6877'],\n",
    "                    question_6880 = data2['question_6880'],\n",
    "                    question_2947 = data2['question_2947'],\n",
    "                    question_128 = data2['question_128'],\n",
    "                    question_5692 = data2['question_5692'],\n",
    "                   )"
   ]
  }
 ],
 "metadata": {
  "kernelspec": {
   "display_name": "Python 3",
   "language": "python",
   "name": "python3"
  },
  "language_info": {
   "codemirror_mode": {
    "name": "ipython",
    "version": 3
   },
   "file_extension": ".py",
   "mimetype": "text/x-python",
   "name": "python",
   "nbconvert_exporter": "python",
   "pygments_lexer": "ipython3",
   "version": "3.7.4"
  }
 },
 "nbformat": 4,
 "nbformat_minor": 2
}
